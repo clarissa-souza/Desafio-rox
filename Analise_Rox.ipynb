{
  "nbformat": 4,
  "nbformat_minor": 0,
  "metadata": {
    "colab": {
      "provenance": [],
      "authorship_tag": "ABX9TyONHcNzC51Xnrkb+wyo2CMM",
      "include_colab_link": true
    },
    "kernelspec": {
      "name": "python3",
      "display_name": "Python 3"
    },
    "language_info": {
      "name": "python"
    }
  },
  "cells": [
    {
      "cell_type": "markdown",
      "metadata": {
        "id": "view-in-github",
        "colab_type": "text"
      },
      "source": [
        "<a href=\"https://colab.research.google.com/github/clarissa-souza/Desafio-rox/blob/main/Analise_Rox.ipynb\" target=\"_parent\"><img src=\"https://colab.research.google.com/assets/colab-badge.svg\" alt=\"Open In Colab\"/></a>"
      ]
    },
    {
      "cell_type": "markdown",
      "source": [
        "Cenário: Por falta de maiores detalhes, presumo que o cliente tem um datalake na plataforma GCP onde ele faz o upload de seus arquivos para pasta Dados Originais. Eu vou ler esse arquivo do datalake e fazer as análises e alterações que forem necessárias e, por fim, gravar o novo arquivo na pasta Dados Tratados.\n",
        "Acredito que, pelas colunas das tabelas, essas tabelas sejam apenas uma view de uma parte do banco do ERP do cliente.\n",
        "\n",
        "\n",
        "Análise: Consiste em identificar se existe e quais são as Primary Key e Foreing Key e o relacionamento entre as tabelas. Verificar se as colunas estão devidamente formatadas."
      ],
      "metadata": {
        "id": "2SAKj0xVUKSn"
      }
    },
    {
      "cell_type": "markdown",
      "source": [
        "# Biblioteca"
      ],
      "metadata": {
        "id": "C9jCONAH1HJu"
      }
    },
    {
      "cell_type": "code",
      "source": [
        "pip install pyspark"
      ],
      "metadata": {
        "colab": {
          "base_uri": "https://localhost:8080/"
        },
        "id": "t2GR5dDPMds3",
        "outputId": "42a8e88a-8b63-4fad-a7d0-509d75c7b623"
      },
      "execution_count": null,
      "outputs": [
        {
          "output_type": "stream",
          "name": "stdout",
          "text": [
            "Collecting pyspark\n",
            "  Downloading pyspark-3.4.1.tar.gz (310.8 MB)\n",
            "\u001b[2K     \u001b[90m━━━━━━━━━━━━━━━━━━━━━━━━━━━━━━━━━━━━━━━\u001b[0m \u001b[32m310.8/310.8 MB\u001b[0m \u001b[31m1.5 MB/s\u001b[0m eta \u001b[36m0:00:00\u001b[0m\n",
            "\u001b[?25h  Preparing metadata (setup.py) ... \u001b[?25l\u001b[?25hdone\n",
            "Requirement already satisfied: py4j==0.10.9.7 in /usr/local/lib/python3.10/dist-packages (from pyspark) (0.10.9.7)\n",
            "Building wheels for collected packages: pyspark\n",
            "  Building wheel for pyspark (setup.py) ... \u001b[?25l\u001b[?25hdone\n",
            "  Created wheel for pyspark: filename=pyspark-3.4.1-py2.py3-none-any.whl size=311285398 sha256=50c47f24ff52f336aaad30fd14192e3bfd0dd771c83455a830ea67234677a6b9\n",
            "  Stored in directory: /root/.cache/pip/wheels/0d/77/a3/ff2f74cc9ab41f8f594dabf0579c2a7c6de920d584206e0834\n",
            "Successfully built pyspark\n",
            "Installing collected packages: pyspark\n",
            "Successfully installed pyspark-3.4.1\n"
          ]
        }
      ]
    },
    {
      "cell_type": "code",
      "source": [
        "# Importando as bibliotecas\n",
        "import json\n",
        "from datetime import datetime, date\n",
        "from pyspark.sql import SparkSession\n",
        "from pyspark.sql import DataFrame\n",
        "from pyspark.sql import functions as F\n",
        "from pyspark.sql.functions import *\n",
        "from functools import reduce\n",
        "from pyspark.sql.types import StringType, IntegerType\n",
        "from datetime import datetime, date\n",
        "\n",
        "\n",
        "# Importando para o google cloud\n",
        "from google.cloud import storage\n",
        "import os\n",
        "\n",
        "# Importando biblioteca para acessar a Service account que está no drive\n",
        "from google.colab import drive"
      ],
      "metadata": {
        "id": "xda0Vg0YN0mg"
      },
      "execution_count": null,
      "outputs": []
    },
    {
      "cell_type": "markdown",
      "source": [
        "# Acesso ao bucket do cliente"
      ],
      "metadata": {
        "id": "XlI6y5p41aSd"
      }
    },
    {
      "cell_type": "code",
      "source": [
        "# Montando o acesso ao drive para acessar a Service account\n",
        "drive.mount ('/content/drive')"
      ],
      "metadata": {
        "colab": {
          "base_uri": "https://localhost:8080/"
        },
        "id": "0xm0xmxWRxYy",
        "outputId": "356042df-0b70-4db2-93e1-1333f9a96468"
      },
      "execution_count": null,
      "outputs": [
        {
          "output_type": "stream",
          "name": "stdout",
          "text": [
            "Mounted at /content/drive\n"
          ]
        }
      ]
    },
    {
      "cell_type": "code",
      "source": [
        "# Configurando o caminho da Service account\n",
        "serviceAccount='/content/drive/MyDrive/Rox/leega-estudos-6d979ec7a228.json'\n",
        "os.environ['GOOGLE_APPLICATION_CREDENTIALS']=serviceAccount\n",
        "\n",
        "# Instanciar o client\n",
        "client=storage.Client()\n",
        "\n",
        "# Receber o nome do bucket na variavel bucket\n",
        "bucket=client.get_bucket('bucket-rox')"
      ],
      "metadata": {
        "id": "57g2k_phRxJi"
      },
      "execution_count": null,
      "outputs": []
    },
    {
      "cell_type": "markdown",
      "source": [
        "# Configurando o SparkSession"
      ],
      "metadata": {
        "id": "zog46QFt1g-U"
      }
    },
    {
      "cell_type": "code",
      "source": [
        "#configurar a sparksession\n",
        "spark = (SparkSession.builder\n",
        "          .master('local') # quero gerar apenas um arquivo quando gravar o dado tratado no bucket então só vou usar o core local\n",
        "          .appName('rox') # o nome do app\n",
        "          .config('spark.ui.port','4050') # a porta onde vou rodar\n",
        "          .config('spark.jars','https://storage.googleapis.com/hadoop-lib/gcs/gcs-connector-hadoop2-latest.jar')\n",
        "          .getOrCreate()\n",
        "          )"
      ],
      "metadata": {
        "id": "vvEyJhb7N3_E"
      },
      "execution_count": null,
      "outputs": []
    },
    {
      "cell_type": "markdown",
      "source": [
        "# Tabela Person: BusinessEntityID (Primary Key)"
      ],
      "metadata": {
        "id": "noHytDXkoGhT"
      }
    },
    {
      "cell_type": "code",
      "source": [
        "# Escolher o arquivo dentro da bucket\n",
        "bucket.blob('Person.Person.csv')\n",
        "\n",
        "# Escolher uma variável que vai receber o caminho do arquivo que quero ler\n",
        "path='gs://bucket-rox/Dados_Originais/Person.Person.csv'"
      ],
      "metadata": {
        "id": "sAHepYpUnerN"
      },
      "execution_count": null,
      "outputs": []
    },
    {
      "cell_type": "code",
      "source": [
        "dfPerson = (spark\n",
        "        .read\n",
        "        .format ('csv')\n",
        "        .option ('header','true')\n",
        "        .option('inferschema','true')\n",
        "        .option('delimiter',';')\n",
        "        .load(path)\n",
        "         )"
      ],
      "metadata": {
        "id": "fJxl3IwkOIAE"
      },
      "execution_count": null,
      "outputs": []
    },
    {
      "cell_type": "code",
      "source": [
        "dfPerson.printSchema()"
      ],
      "metadata": {
        "colab": {
          "base_uri": "https://localhost:8080/"
        },
        "id": "vyVAL5ydPoId",
        "outputId": "0d7c4cca-a758-4da1-c880-16649ad44cf8"
      },
      "execution_count": null,
      "outputs": [
        {
          "output_type": "stream",
          "name": "stdout",
          "text": [
            "root\n",
            " |-- BusinessEntityID: integer (nullable = true)\n",
            " |-- PersonType: string (nullable = true)\n",
            " |-- NameStyle: integer (nullable = true)\n",
            " |-- Title: string (nullable = true)\n",
            " |-- FirstName: string (nullable = true)\n",
            " |-- MiddleName: string (nullable = true)\n",
            " |-- LastName: string (nullable = true)\n",
            " |-- Suffix: string (nullable = true)\n",
            " |-- EmailPromotion: integer (nullable = true)\n",
            " |-- AdditionalContactInfo: string (nullable = true)\n",
            " |-- Demographics: string (nullable = true)\n",
            " |-- rowguid: string (nullable = true)\n",
            " |-- ModifiedDate: timestamp (nullable = true)\n",
            "\n"
          ]
        }
      ]
    },
    {
      "cell_type": "code",
      "source": [
        "# verificando as primeiras linhas\n",
        "dfPerson.orderBy(col('BusinessEntityID').asc()).show(10,truncate=False)"
      ],
      "metadata": {
        "colab": {
          "base_uri": "https://localhost:8080/"
        },
        "id": "X4gGzzl2OX3b",
        "outputId": "b3cbf46f-0650-40e4-e5cc-ddcbf76f2fdd"
      },
      "execution_count": null,
      "outputs": [
        {
          "output_type": "stream",
          "name": "stdout",
          "text": [
            "+----------------+----------+---------+-----+---------+----------+----------+------+--------------+---------------------+-----------------------------------------------------------------------------------------------------------------------------------------------------------------------+------------------------------------+-------------------+\n",
            "|BusinessEntityID|PersonType|NameStyle|Title|FirstName|MiddleName|LastName  |Suffix|EmailPromotion|AdditionalContactInfo|Demographics                                                                                                                                                           |rowguid                             |ModifiedDate       |\n",
            "+----------------+----------+---------+-----+---------+----------+----------+------+--------------+---------------------+-----------------------------------------------------------------------------------------------------------------------------------------------------------------------+------------------------------------+-------------------+\n",
            "|1               |EM        |0        |NULL |Ken      |J         |Sánchez   |NULL  |0             |NULL                 |\"<IndividualSurvey xmlns=\"\"http://schemas.microsoft.com/sqlserver/2004/07/adventure-works/IndividualSurvey\"\"><TotalPurchaseYTD>0</TotalPurchaseYTD></IndividualSurvey>\"|92C4279F-1207-48A3-8448-4636514EB7E2|2009-01-07 00:00:00|\n",
            "|2               |EM        |0        |NULL |Terri    |Lee       |Duffy     |NULL  |1             |NULL                 |\"<IndividualSurvey xmlns=\"\"http://schemas.microsoft.com/sqlserver/2004/07/adventure-works/IndividualSurvey\"\"><TotalPurchaseYTD>0</TotalPurchaseYTD></IndividualSurvey>\"|D8763459-8AA8-47CC-AFF7-C9079AF79033|2008-01-24 00:00:00|\n",
            "|3               |EM        |0        |NULL |Roberto  |NULL      |Tamburello|NULL  |0             |NULL                 |\"<IndividualSurvey xmlns=\"\"http://schemas.microsoft.com/sqlserver/2004/07/adventure-works/IndividualSurvey\"\"><TotalPurchaseYTD>0</TotalPurchaseYTD></IndividualSurvey>\"|E1A2555E-0828-434B-A33B-6F38136A37DE|2007-11-04 00:00:00|\n",
            "|4               |EM        |0        |NULL |Rob      |NULL      |Walters   |NULL  |0             |NULL                 |\"<IndividualSurvey xmlns=\"\"http://schemas.microsoft.com/sqlserver/2004/07/adventure-works/IndividualSurvey\"\"><TotalPurchaseYTD>0</TotalPurchaseYTD></IndividualSurvey>\"|F2D7CE06-38B3-4357-805B-F4B6B71C01FF|2007-11-28 00:00:00|\n",
            "|5               |EM        |0        |Ms.  |Gail     |A         |Erickson  |NULL  |0             |NULL                 |\"<IndividualSurvey xmlns=\"\"http://schemas.microsoft.com/sqlserver/2004/07/adventure-works/IndividualSurvey\"\"><TotalPurchaseYTD>0</TotalPurchaseYTD></IndividualSurvey>\"|F3A3F6B4-AE3B-430C-A754-9F2231BA6FEF|2007-12-30 00:00:00|\n",
            "|6               |EM        |0        |Mr.  |Jossef   |H         |Goldberg  |NULL  |0             |NULL                 |\"<IndividualSurvey xmlns=\"\"http://schemas.microsoft.com/sqlserver/2004/07/adventure-works/IndividualSurvey\"\"><TotalPurchaseYTD>0</TotalPurchaseYTD></IndividualSurvey>\"|0DEA28FD-EFFE-482A-AFD3-B7E8F199D56F|2013-12-16 00:00:00|\n",
            "|7               |EM        |0        |NULL |Dylan    |A         |Miller    |NULL  |2             |NULL                 |\"<IndividualSurvey xmlns=\"\"http://schemas.microsoft.com/sqlserver/2004/07/adventure-works/IndividualSurvey\"\"><TotalPurchaseYTD>0</TotalPurchaseYTD></IndividualSurvey>\"|C45E8AB8-01BE-4B76-B215-820C8368181A|2009-02-01 00:00:00|\n",
            "|8               |EM        |0        |NULL |Diane    |L         |Margheim  |NULL  |0             |NULL                 |\"<IndividualSurvey xmlns=\"\"http://schemas.microsoft.com/sqlserver/2004/07/adventure-works/IndividualSurvey\"\"><TotalPurchaseYTD>0</TotalPurchaseYTD></IndividualSurvey>\"|A948E590-4A56-45A9-BC9A-160A1CC9D990|2008-12-22 00:00:00|\n",
            "|9               |EM        |0        |NULL |Gigi     |N         |Matthew   |NULL  |0             |NULL                 |\"<IndividualSurvey xmlns=\"\"http://schemas.microsoft.com/sqlserver/2004/07/adventure-works/IndividualSurvey\"\"><TotalPurchaseYTD>0</TotalPurchaseYTD></IndividualSurvey>\"|5FC28C0E-6D36-4252-9846-05CAA0B1F6C5|2009-01-09 00:00:00|\n",
            "|10              |EM        |0        |NULL |Michael  |NULL      |Raheem    |NULL  |2             |NULL                 |\"<IndividualSurvey xmlns=\"\"http://schemas.microsoft.com/sqlserver/2004/07/adventure-works/IndividualSurvey\"\"><TotalPurchaseYTD>0</TotalPurchaseYTD></IndividualSurvey>\"|CA2C740E-75B2-420C-9D4B-E3CBC6609604|2009-04-26 00:00:00|\n",
            "+----------------+----------+---------+-----+---------+----------+----------+------+--------------+---------------------+-----------------------------------------------------------------------------------------------------------------------------------------------------------------------+------------------------------------+-------------------+\n",
            "only showing top 10 rows\n",
            "\n"
          ]
        }
      ]
    },
    {
      "cell_type": "code",
      "source": [
        "# verificando as últimas linhas\n",
        "dfPerson.orderBy(col('BusinessEntityID').asc()).tail(1)"
      ],
      "metadata": {
        "colab": {
          "base_uri": "https://localhost:8080/"
        },
        "id": "UrDkhDdxj7mO",
        "outputId": "c7374ca1-f19b-4e5d-f169-69a4ec29b8f9"
      },
      "execution_count": null,
      "outputs": [
        {
          "output_type": "execute_result",
          "data": {
            "text/plain": [
              "[Row(BusinessEntityID=20777, PersonType='IN', NameStyle=0, Title='NULL', FirstName='Crystal', MiddleName='NULL', LastName='Hu', Suffix='NULL', EmailPromotion=0, AdditionalContactInfo='NULL', Demographics='\"<IndividualSurvey xmlns=\"\"http://schemas.microsoft.com/sqlserver/2004/07/adventure-works/IndividualSurvey\"\"><TotalPurchaseYTD>-19.5</TotalPurchaseYTD><DateFirstPurchase>2003-11-17Z</DateFirstPurchase><BirthDate>1971-05-05Z</BirthDate><MaritalStatus>M</MaritalStatus><YearlyIncome>75001-100000</YearlyIncome><Gender>F</Gender><TotalChildren>0</TotalChildren><NumberChildrenAtHome>0</NumberChildrenAtHome><Education>Bachelors </Education><Occupation>Professional</Occupation><HomeOwnerFlag>0</HomeOwnerFlag><NumberCarsOwned>4</NumberCarsOwned><CommuteDistance>10+ Miles</CommuteDistance></IndividualSurvey>\"', rowguid='1773C8F3-2CC7-4826-A7F5-30D3F36543CD', ModifiedDate=datetime.datetime(2013, 10, 16, 0, 0))]"
            ]
          },
          "metadata": {},
          "execution_count": 9
        }
      ]
    },
    {
      "cell_type": "code",
      "source": [
        "# verificando se há registro null na coluna ID\n",
        "dfPerson.createOrReplaceTempView(\"TAB\")\n",
        "spark.sql(\"SELECT BusinessEntityID FROM TAB WHERE BusinessEntityID is null \").show(truncate=False)"
      ],
      "metadata": {
        "colab": {
          "base_uri": "https://localhost:8080/"
        },
        "id": "TGywvuSeehHb",
        "outputId": "29b51442-81d9-404f-d7d4-0b34df8076bb"
      },
      "execution_count": null,
      "outputs": [
        {
          "output_type": "stream",
          "name": "stdout",
          "text": [
            "+----------------+\n",
            "|BusinessEntityID|\n",
            "+----------------+\n",
            "+----------------+\n",
            "\n"
          ]
        }
      ]
    },
    {
      "cell_type": "code",
      "source": [
        "# Verificando se existe ID repetido\n",
        "df1=dfPerson.groupBy(\"BusinessEntityID\").count().filter(\"count > 1\")\n",
        "df1.drop('count').show()"
      ],
      "metadata": {
        "colab": {
          "base_uri": "https://localhost:8080/"
        },
        "id": "50HIL8f4vsgC",
        "outputId": "b613cd27-565b-432b-fc89-19d6fece675d"
      },
      "execution_count": null,
      "outputs": [
        {
          "output_type": "stream",
          "name": "stdout",
          "text": [
            "+----------------+\n",
            "|BusinessEntityID|\n",
            "+----------------+\n",
            "+----------------+\n",
            "\n"
          ]
        }
      ]
    },
    {
      "cell_type": "code",
      "source": [
        "# Verificando se existe linha repetida\n",
        "df1=dfPerson.groupBy('BusinessEntityID','PersonType','NameStyle','Title','FirstName','MiddleName','LastName','Suffix','EmailPromotion','AdditionalContactInfo','Demographics','rowguid','ModifiedDate').count().filter(\"count > 1\")\n",
        "df1.drop('count').show()"
      ],
      "metadata": {
        "colab": {
          "base_uri": "https://localhost:8080/"
        },
        "id": "Qs_oEhXN96bz",
        "outputId": "df72ce22-1921-4bb7-f561-70068794545a"
      },
      "execution_count": null,
      "outputs": [
        {
          "output_type": "stream",
          "name": "stdout",
          "text": [
            "+----------------+----------+---------+-----+---------+----------+--------+------+--------------+---------------------+------------+-------+------------+\n",
            "|BusinessEntityID|PersonType|NameStyle|Title|FirstName|MiddleName|LastName|Suffix|EmailPromotion|AdditionalContactInfo|Demographics|rowguid|ModifiedDate|\n",
            "+----------------+----------+---------+-----+---------+----------+--------+------+--------------+---------------------+------------+-------+------------+\n",
            "+----------------+----------+---------+-----+---------+----------+--------+------+--------------+---------------------+------------+-------+------------+\n",
            "\n"
          ]
        }
      ]
    },
    {
      "cell_type": "code",
      "source": [
        "# necessário alterar \",\" para \";\" porque estava gravando como mais uma coluna\n",
        "dfPerson = dfPerson.withColumn('AdditionalContactInfo',regexp_replace('AdditionalContactInfo',',',';'))\n",
        "dfPerson = dfPerson.withColumn('Demographics',regexp_replace('Demographics',',',';'))"
      ],
      "metadata": {
        "id": "YkYNmq5XoAtC"
      },
      "execution_count": null,
      "outputs": []
    },
    {
      "cell_type": "code",
      "source": [
        "dfPerson.write.options(header=True,delimiter=',').csv('gs://bucket-rox/Dados_Tratados/Person')"
      ],
      "metadata": {
        "id": "sXqxtXWefJC_"
      },
      "execution_count": null,
      "outputs": []
    },
    {
      "cell_type": "markdown",
      "source": [
        "# Tabela Production.Product: PoductID (Primary Key)"
      ],
      "metadata": {
        "id": "RyUtaKacoLIU"
      }
    },
    {
      "cell_type": "code",
      "source": [
        "# Escolher o arquivo dentro da bucket\n",
        "bucket.blob('Production.Product.csv')\n",
        "\n",
        "# Escolher uma variável que vai receber o caminho do arquivo que quero ler\n",
        "path='gs://bucket-rox/Dados_Originais/Production.Product.csv'"
      ],
      "metadata": {
        "id": "bNOiBz5K1Hg4"
      },
      "execution_count": null,
      "outputs": []
    },
    {
      "cell_type": "code",
      "source": [
        "dfProduction = (spark\n",
        "        .read\n",
        "        .format ('csv')\n",
        "        .option ('header','true')\n",
        "        .option('inferschema','true')\n",
        "        .option('delimiter',';')\n",
        "        .load(path)\n",
        "         )"
      ],
      "metadata": {
        "id": "wKhfzkt3oCwu"
      },
      "execution_count": null,
      "outputs": []
    },
    {
      "cell_type": "code",
      "source": [
        "dfProduction.printSchema()"
      ],
      "metadata": {
        "colab": {
          "base_uri": "https://localhost:8080/"
        },
        "id": "A8IO_tj5-lv7",
        "outputId": "75f668a7-539d-4b53-cb55-b22bc044ec91"
      },
      "execution_count": null,
      "outputs": [
        {
          "output_type": "stream",
          "name": "stdout",
          "text": [
            "root\n",
            " |-- ProductID: integer (nullable = true)\n",
            " |-- Name: string (nullable = true)\n",
            " |-- ProductNumber: string (nullable = true)\n",
            " |-- MakeFlag: integer (nullable = true)\n",
            " |-- FinishedGoodsFlag: integer (nullable = true)\n",
            " |-- Color: string (nullable = true)\n",
            " |-- SafetyStockLevel: integer (nullable = true)\n",
            " |-- ReorderPoint: integer (nullable = true)\n",
            " |-- StandardCost: string (nullable = true)\n",
            " |-- ListPrice: string (nullable = true)\n",
            " |-- Size: string (nullable = true)\n",
            " |-- SizeUnitMeasureCode: string (nullable = true)\n",
            " |-- WeightUnitMeasureCode: string (nullable = true)\n",
            " |-- Weight: string (nullable = true)\n",
            " |-- DaysToManufacture: integer (nullable = true)\n",
            " |-- ProductLine: string (nullable = true)\n",
            " |-- Class: string (nullable = true)\n",
            " |-- Style: string (nullable = true)\n",
            " |-- ProductSubcategoryID: string (nullable = true)\n",
            " |-- ProductModelID: string (nullable = true)\n",
            " |-- SellStartDate: timestamp (nullable = true)\n",
            " |-- SellEndDate: string (nullable = true)\n",
            " |-- DiscontinuedDate: string (nullable = true)\n",
            " |-- rowguid: string (nullable = true)\n",
            " |-- ModifiedDate: timestamp (nullable = true)\n",
            "\n"
          ]
        }
      ]
    },
    {
      "cell_type": "code",
      "source": [
        "# verificando as primeiras linhas\n",
        "dfProduction.orderBy(col('ProductID').asc()).show(10)"
      ],
      "metadata": {
        "colab": {
          "base_uri": "https://localhost:8080/"
        },
        "id": "XwQ6_8fXoaz-",
        "outputId": "9bf50249-55e3-45d1-c5ff-5fe5b7c12762"
      },
      "execution_count": null,
      "outputs": [
        {
          "output_type": "stream",
          "name": "stdout",
          "text": [
            "+---------+--------------------+-------------+--------+-----------------+------+----------------+------------+------------+---------+----+-------------------+---------------------+------+-----------------+-----------+-----+-----+--------------------+--------------+-------------------+-----------+----------------+--------------------+--------------------+\n",
            "|ProductID|                Name|ProductNumber|MakeFlag|FinishedGoodsFlag| Color|SafetyStockLevel|ReorderPoint|StandardCost|ListPrice|Size|SizeUnitMeasureCode|WeightUnitMeasureCode|Weight|DaysToManufacture|ProductLine|Class|Style|ProductSubcategoryID|ProductModelID|      SellStartDate|SellEndDate|DiscontinuedDate|             rowguid|        ModifiedDate|\n",
            "+---------+--------------------+-------------+--------+-----------------+------+----------------+------------+------------+---------+----+-------------------+---------------------+------+-----------------+-----------+-----+-----+--------------------+--------------+-------------------+-----------+----------------+--------------------+--------------------+\n",
            "|        1|     Adjustable Race|      AR-5381|       0|                0|  NULL|            1000|         750|        0,00|     0,00|NULL|               NULL|                 NULL|  NULL|                0|       NULL| NULL| NULL|                NULL|          NULL|2008-04-30 00:00:00|       NULL|            NULL|694215B7-08F7-4C0...|2014-02-08 10:01:...|\n",
            "|        2|        Bearing Ball|      BA-8327|       0|                0|  NULL|            1000|         750|        0,00|     0,00|NULL|               NULL|                 NULL|  NULL|                0|       NULL| NULL| NULL|                NULL|          NULL|2008-04-30 00:00:00|       NULL|            NULL|58AE3C20-4F3A-474...|2014-02-08 10:01:...|\n",
            "|        3|     BB Ball Bearing|      BE-2349|       1|                0|  NULL|             800|         600|        0,00|     0,00|NULL|               NULL|                 NULL|  NULL|                1|       NULL| NULL| NULL|                NULL|          NULL|2008-04-30 00:00:00|       NULL|            NULL|9C21AED2-5BFA-4F1...|2014-02-08 10:01:...|\n",
            "|        4|Headset Ball Bear...|      BE-2908|       0|                0|  NULL|             800|         600|        0,00|     0,00|NULL|               NULL|                 NULL|  NULL|                0|       NULL| NULL| NULL|                NULL|          NULL|2008-04-30 00:00:00|       NULL|            NULL|ECFED6CB-51FF-49B...|2014-02-08 10:01:...|\n",
            "|      316|               Blade|      BL-2036|       1|                0|  NULL|             800|         600|        0,00|     0,00|NULL|               NULL|                 NULL|  NULL|                1|       NULL| NULL| NULL|                NULL|          NULL|2008-04-30 00:00:00|       NULL|            NULL|E73E9750-603B-413...|2014-02-08 10:01:...|\n",
            "|      317|         LL Crankarm|      CA-5965|       0|                0| Black|             500|         375|        0,00|     0,00|NULL|               NULL|                 NULL|  NULL|                0|       NULL|   L | NULL|                NULL|          NULL|2008-04-30 00:00:00|       NULL|            NULL|3C9D10B7-A6B2-477...|2014-02-08 10:01:...|\n",
            "|      318|         ML Crankarm|      CA-6738|       0|                0| Black|             500|         375|        0,00|     0,00|NULL|               NULL|                 NULL|  NULL|                0|       NULL|   M | NULL|                NULL|          NULL|2008-04-30 00:00:00|       NULL|            NULL|EABB9A92-FA07-4EA...|2014-02-08 10:01:...|\n",
            "|      319|         HL Crankarm|      CA-7457|       0|                0| Black|             500|         375|        0,00|     0,00|NULL|               NULL|                 NULL|  NULL|                0|       NULL| NULL| NULL|                NULL|          NULL|2008-04-30 00:00:00|       NULL|            NULL|7D3FD384-4F29-484...|2014-02-08 10:01:...|\n",
            "|      320|     Chainring Bolts|      CB-2903|       0|                0|Silver|            1000|         750|        0,00|     0,00|NULL|               NULL|                 NULL|  NULL|                0|       NULL| NULL| NULL|                NULL|          NULL|2008-04-30 00:00:00|       NULL|            NULL|7BE38E48-B7D6-448...|2014-02-08 10:01:...|\n",
            "|      321|       Chainring Nut|      CN-6137|       0|                0|Silver|            1000|         750|        0,00|     0,00|NULL|               NULL|                 NULL|  NULL|                0|       NULL| NULL| NULL|                NULL|          NULL|2008-04-30 00:00:00|       NULL|            NULL|3314B1D7-EF69-443...|2014-02-08 10:01:...|\n",
            "+---------+--------------------+-------------+--------+-----------------+------+----------------+------------+------------+---------+----+-------------------+---------------------+------+-----------------+-----------+-----+-----+--------------------+--------------+-------------------+-----------+----------------+--------------------+--------------------+\n",
            "only showing top 10 rows\n",
            "\n"
          ]
        }
      ]
    },
    {
      "cell_type": "code",
      "source": [
        "# verificando as últimas linhas\n",
        "dfProduction.orderBy(col('ProductID').asc()).tail(1)"
      ],
      "metadata": {
        "colab": {
          "base_uri": "https://localhost:8080/"
        },
        "id": "-krdJtX4-zXj",
        "outputId": "c5b46ae6-1a51-46af-8db0-55ff9f9c202b"
      },
      "execution_count": null,
      "outputs": [
        {
          "output_type": "execute_result",
          "data": {
            "text/plain": [
              "[Row(ProductID=999, Name='Road-750 Black, 52', ProductNumber='BK-R19B-52', MakeFlag=1, FinishedGoodsFlag=1, Color='Black', SafetyStockLevel=100, ReorderPoint=75, StandardCost='343,6496', ListPrice='539,99', Size='52', SizeUnitMeasureCode='CM ', WeightUnitMeasureCode='LB ', Weight='20.42', DaysToManufacture=4, ProductLine='R ', Class='L ', Style='U ', ProductSubcategoryID='2', ProductModelID='31', SellStartDate=datetime.datetime(2013, 5, 30, 0, 0), SellEndDate='NULL', DiscontinuedDate='NULL', rowguid='AE638923-2B67-4679-B90E-ABBAB17DCA31', ModifiedDate=datetime.datetime(2014, 2, 8, 10, 1, 36, 827000))]"
            ]
          },
          "metadata": {},
          "execution_count": 81
        }
      ]
    },
    {
      "cell_type": "code",
      "source": [
        "# verificando se há registro null na coluna ID\n",
        "dfProduction.createOrReplaceTempView(\"TAB\")\n",
        "spark.sql(\"SELECT ProductID FROM TAB WHERE ProductID is null \").show(truncate=False)"
      ],
      "metadata": {
        "colab": {
          "base_uri": "https://localhost:8080/"
        },
        "id": "lK8lyKCwwIOU",
        "outputId": "aa7255a7-074f-49ce-d0b8-bb65b659c577"
      },
      "execution_count": null,
      "outputs": [
        {
          "output_type": "stream",
          "name": "stdout",
          "text": [
            "+---------+\n",
            "|ProductID|\n",
            "+---------+\n",
            "+---------+\n",
            "\n"
          ]
        }
      ]
    },
    {
      "cell_type": "code",
      "source": [
        "# Verificando se existe ID repetido\n",
        "df1=dfProduction.groupBy(\"ProductID\").count().filter(\"count > 1\")\n",
        "df1.drop('count').show()"
      ],
      "metadata": {
        "colab": {
          "base_uri": "https://localhost:8080/"
        },
        "id": "3cgM480-tDM0",
        "outputId": "be6b7d8e-b625-424b-99e1-edf6baf848e9"
      },
      "execution_count": null,
      "outputs": [
        {
          "output_type": "stream",
          "name": "stdout",
          "text": [
            "+---------+\n",
            "|ProductID|\n",
            "+---------+\n",
            "+---------+\n",
            "\n"
          ]
        }
      ]
    },
    {
      "cell_type": "code",
      "source": [
        "# Verificando se existe linha repetida\n",
        "df1=dfProduction.groupBy('ProductID','Name','ProductNumber','MakeFlag','FinishedGoodsFlag','Color','SafetyStockLevel','ReorderPoint','StandardCost','ListPrice','Size','SizeUnitMeasureCode','WeightUnitMeasureCode','Weight','DaysToManufacture','ProductLine','Class','Style','ProductSubcategoryID','ProductModelID','SellStartDate','SellEndDate','DiscontinuedDate','rowguid','ModifiedDate').count().filter(\"count > 1\")\n",
        "df1.drop('count').show()"
      ],
      "metadata": {
        "colab": {
          "base_uri": "https://localhost:8080/"
        },
        "id": "ClHqYp6F_0P9",
        "outputId": "3fec8f3c-c2a9-49ac-e3ab-c458ced39b6a"
      },
      "execution_count": null,
      "outputs": [
        {
          "output_type": "stream",
          "name": "stdout",
          "text": [
            "+---------+----+-------------+--------+-----------------+-----+----------------+------------+------------+---------+----+-------------------+---------------------+------+-----------------+-----------+-----+-----+--------------------+--------------+-------------+-----------+----------------+-------+------------+\n",
            "|ProductID|Name|ProductNumber|MakeFlag|FinishedGoodsFlag|Color|SafetyStockLevel|ReorderPoint|StandardCost|ListPrice|Size|SizeUnitMeasureCode|WeightUnitMeasureCode|Weight|DaysToManufacture|ProductLine|Class|Style|ProductSubcategoryID|ProductModelID|SellStartDate|SellEndDate|DiscontinuedDate|rowguid|ModifiedDate|\n",
            "+---------+----+-------------+--------+-----------------+-----+----------------+------------+------------+---------+----+-------------------+---------------------+------+-----------------+-----------+-----+-----+--------------------+--------------+-------------+-----------+----------------+-------+------------+\n",
            "+---------+----+-------------+--------+-----------------+-----+----------------+------------+------------+---------+----+-------------------+---------------------+------+-----------------+-----------+-----+-----+--------------------+--------------+-------------+-----------+----------------+-------+------------+\n",
            "\n"
          ]
        }
      ]
    },
    {
      "cell_type": "code",
      "source": [
        "# gravando o arquivo tratado no bucket\n",
        "dfProduction.write.options(header=True, delimiter=',').csv('gs://bucket-rox/Dados_Tratados/Production')"
      ],
      "metadata": {
        "id": "GyybHegE03IS"
      },
      "execution_count": null,
      "outputs": []
    },
    {
      "cell_type": "markdown",
      "source": [
        "# Tabela Sales.SpecialOfferProduct: SpecialOfferID não pode ser Primary Key porque não é única, ProductID (Foreing Key)\n",
        "\n",
        "Obs.:\n",
        "\n",
        "Não existe uma Primary Key nesta tabela.\n",
        "\n",
        "O ideal nesta caso é que haja uma revisão na sua modelagem pois, em teoria, uma tabela não deve ficar sem uma Primary Key.\n",
        "\n",
        "Outra sugestão seria criar uma Primary Key da união das colunas ProductID e SpecialOfferID já que elas, juntas, não se repetem. Porém esta solução também precisa ser amplamente estudada para analisar o impacto sobre as demais tabelas."
      ],
      "metadata": {
        "id": "e0gTTvfrzC2h"
      }
    },
    {
      "cell_type": "code",
      "source": [
        "# Escolher o arquivo dentro da bucket\n",
        "bucket.blob('Sales.SpecialOfferProduct.csv')\n",
        "\n",
        "# Escolher uma variável que vai receber o caminho do arquivo que quero ler\n",
        "path='gs://bucket-rox/Dados_Originais/Sales.SpecialOfferProduct.csv'"
      ],
      "metadata": {
        "id": "lNAzZnDR18vP"
      },
      "execution_count": null,
      "outputs": []
    },
    {
      "cell_type": "code",
      "source": [
        "dfSpecialOfferProduct = (spark\n",
        "        .read\n",
        "        .format ('csv')\n",
        "        .option ('header','true') # para incluir o cabeçalho\n",
        "        .option('inferschema','true') #para ele dizer o esquema\n",
        "        .option('delimiter',';')\n",
        "        .load(path)\n",
        "         )"
      ],
      "metadata": {
        "id": "fC2g3SXPzH1p"
      },
      "execution_count": null,
      "outputs": []
    },
    {
      "cell_type": "code",
      "source": [
        "dfSpecialOfferProduct.printSchema()"
      ],
      "metadata": {
        "colab": {
          "base_uri": "https://localhost:8080/"
        },
        "id": "R_EETgZ6AluR",
        "outputId": "5c6da802-ed1b-4032-a9c7-b48a724f7c53"
      },
      "execution_count": null,
      "outputs": [
        {
          "output_type": "stream",
          "name": "stdout",
          "text": [
            "root\n",
            " |-- SpecialOfferID: integer (nullable = true)\n",
            " |-- ProductID: integer (nullable = true)\n",
            " |-- rowguid: string (nullable = true)\n",
            " |-- ModifiedDate: timestamp (nullable = true)\n",
            "\n"
          ]
        }
      ]
    },
    {
      "cell_type": "code",
      "source": [
        "# verificando as primeiras linhas\n",
        "dfSpecialOfferProduct.orderBy(col('ProductID').asc(),col('SpecialOfferID').asc()).show(20)"
      ],
      "metadata": {
        "colab": {
          "base_uri": "https://localhost:8080/"
        },
        "id": "iuIOFWiBA0mZ",
        "outputId": "660a8d9b-ef6d-4c51-acc2-fd0063bae39c"
      },
      "execution_count": null,
      "outputs": [
        {
          "output_type": "stream",
          "name": "stdout",
          "text": [
            "+--------------+---------+--------------------+-------------------+\n",
            "|SpecialOfferID|ProductID|             rowguid|       ModifiedDate|\n",
            "+--------------+---------+--------------------+-------------------+\n",
            "|             1|      680|BB30B868-D86C-455...|2011-04-01 00:00:00|\n",
            "|             1|      706|B3C9A4B1-2AE6-4CB...|2011-04-01 00:00:00|\n",
            "|             1|      707|27B711FE-0B77-4EA...|2011-04-01 00:00:00|\n",
            "|             2|      707|CCA6DBA4-0483-429...|2011-05-01 00:00:00|\n",
            "|             3|      707|5F32C413-EFD3-460...|2011-05-01 00:00:00|\n",
            "|             8|      707|13302081-DE14-494...|2012-04-30 00:00:00|\n",
            "|            11|      707|AF988F8E-4FEC-4C7...|2013-04-30 00:00:00|\n",
            "|             1|      708|46CBB78B-246E-4D6...|2011-04-01 00:00:00|\n",
            "|             2|      708|859A66B9-D4FA-44E...|2011-05-01 00:00:00|\n",
            "|             3|      708|50C8F56C-ACEE-463...|2011-05-01 00:00:00|\n",
            "|             8|      708|4C95EB32-7858-4DB...|2012-04-30 00:00:00|\n",
            "|            11|      708|3754699E-F05F-451...|2013-04-30 00:00:00|\n",
            "|             1|      709|CF102AA0-055F-4D2...|2011-04-01 00:00:00|\n",
            "|             2|      709|BD95CAC4-C96B-411...|2011-05-01 00:00:00|\n",
            "|             3|      709|29B54CF5-A065-4C8...|2011-05-01 00:00:00|\n",
            "|             4|      709|D0AB45EB-5451-4E8...|2011-05-01 00:00:00|\n",
            "|             1|      710|63718DA1-464B-432...|2011-04-01 00:00:00|\n",
            "|             1|      711|457EB971-D1C9-48C...|2011-04-01 00:00:00|\n",
            "|             2|      711|11166A91-5087-4C1...|2011-05-01 00:00:00|\n",
            "|             3|      711|DD280317-257F-47C...|2011-05-01 00:00:00|\n",
            "+--------------+---------+--------------------+-------------------+\n",
            "only showing top 20 rows\n",
            "\n"
          ]
        }
      ]
    },
    {
      "cell_type": "code",
      "source": [
        "# verificando as ultimas linhas\n",
        "dfSpecialOfferProduct.orderBy(col('ProductID').asc()).tail(1)"
      ],
      "metadata": {
        "colab": {
          "base_uri": "https://localhost:8080/"
        },
        "id": "d5wmhzkoBGRS",
        "outputId": "d49a01e5-0999-4c7e-db2d-01fbbf321a79"
      },
      "execution_count": null,
      "outputs": [
        {
          "output_type": "execute_result",
          "data": {
            "text/plain": [
              "[Row(SpecialOfferID=2, ProductID=999, rowguid='4FF26A13-4806-4B51-94D3-D545DAEC7825', ModifiedDate=datetime.datetime(2011, 5, 1, 0, 0))]"
            ]
          },
          "metadata": {},
          "execution_count": 90
        }
      ]
    },
    {
      "cell_type": "code",
      "source": [
        "dfSpecialOfferProduct.show()"
      ],
      "metadata": {
        "colab": {
          "base_uri": "https://localhost:8080/"
        },
        "id": "PqykozQbzl0w",
        "outputId": "70ec19b6-8440-4ebe-a1b6-ad1d86f990a2"
      },
      "execution_count": null,
      "outputs": [
        {
          "output_type": "stream",
          "name": "stdout",
          "text": [
            "+--------------+---------+--------------------+-------------------+\n",
            "|SpecialOfferID|ProductID|             rowguid|       ModifiedDate|\n",
            "+--------------+---------+--------------------+-------------------+\n",
            "|             1|      680|BB30B868-D86C-455...|2011-04-01 00:00:00|\n",
            "|             1|      706|B3C9A4B1-2AE6-4CB...|2011-04-01 00:00:00|\n",
            "|             1|      707|27B711FE-0B77-4EA...|2011-04-01 00:00:00|\n",
            "|             1|      708|46CBB78B-246E-4D6...|2011-04-01 00:00:00|\n",
            "|             1|      709|CF102AA0-055F-4D2...|2011-04-01 00:00:00|\n",
            "|             1|      710|63718DA1-464B-432...|2011-04-01 00:00:00|\n",
            "|             1|      711|457EB971-D1C9-48C...|2011-04-01 00:00:00|\n",
            "|             1|      712|5B948448-BAE5-4F2...|2011-04-01 00:00:00|\n",
            "|             1|      713|07768F40-6E46-430...|2011-04-01 00:00:00|\n",
            "|             1|      714|85004BCE-C74A-4D4...|2011-04-01 00:00:00|\n",
            "|             1|      715|BE469616-B279-452...|2011-04-01 00:00:00|\n",
            "|             1|      716|96D141FD-1D8E-431...|2011-04-01 00:00:00|\n",
            "|             1|      717|F717C3DC-3DBF-4F4...|2011-04-01 00:00:00|\n",
            "|             1|      718|B4634789-ACBB-470...|2011-04-01 00:00:00|\n",
            "|             1|      719|B0F55004-472E-4C6...|2011-04-01 00:00:00|\n",
            "|             1|      720|691B64BD-C417-478...|2011-04-01 00:00:00|\n",
            "|             1|      721|0FE22357-94A1-408...|2011-04-01 00:00:00|\n",
            "|             1|      722|87AF8A2A-02B8-465...|2011-04-01 00:00:00|\n",
            "|             1|      723|6A155B5E-7E94-4A7...|2011-04-01 00:00:00|\n",
            "|             1|      724|EBFBD8D4-3067-4D2...|2011-04-01 00:00:00|\n",
            "+--------------+---------+--------------------+-------------------+\n",
            "only showing top 20 rows\n",
            "\n"
          ]
        }
      ]
    },
    {
      "cell_type": "code",
      "source": [
        "# Verificando se existe ID repetido\n",
        "df1=dfSpecialOfferProduct.groupBy(\"ProductID\").count().filter(\"count > 1\")\n",
        "df1.drop('count').show()"
      ],
      "metadata": {
        "colab": {
          "base_uri": "https://localhost:8080/"
        },
        "id": "6l5gOeU0zfVm",
        "outputId": "78c9256a-cd3a-4db3-fccc-e8ab4d49269a"
      },
      "execution_count": null,
      "outputs": [
        {
          "output_type": "stream",
          "name": "stdout",
          "text": [
            "+---------+\n",
            "|ProductID|\n",
            "+---------+\n",
            "|      737|\n",
            "|      858|\n",
            "|      808|\n",
            "|      883|\n",
            "|      804|\n",
            "|      970|\n",
            "|      961|\n",
            "|      974|\n",
            "|      876|\n",
            "|      976|\n",
            "|      772|\n",
            "|      874|\n",
            "|      939|\n",
            "|      762|\n",
            "|      784|\n",
            "|      988|\n",
            "|      723|\n",
            "|      844|\n",
            "|      908|\n",
            "|      806|\n",
            "+---------+\n",
            "only showing top 20 rows\n",
            "\n"
          ]
        }
      ]
    },
    {
      "cell_type": "code",
      "source": [
        "dfSpecialOfferProduct.filter(col('ProductID') == 737).show()"
      ],
      "metadata": {
        "colab": {
          "base_uri": "https://localhost:8080/"
        },
        "id": "12CpTWDG0Lsm",
        "outputId": "5f1757e3-49fa-4d85-ab02-c95a1eed1a27"
      },
      "execution_count": null,
      "outputs": [
        {
          "output_type": "stream",
          "name": "stdout",
          "text": [
            "+--------------+---------+--------------------+-------------------+\n",
            "|SpecialOfferID|ProductID|             rowguid|       ModifiedDate|\n",
            "+--------------+---------+--------------------+-------------------+\n",
            "|             1|      737|1F845481-CAA5-4F9...|2011-04-01 00:00:00|\n",
            "|            12|      737|2D79385D-555C-403...|2013-04-30 00:00:00|\n",
            "+--------------+---------+--------------------+-------------------+\n",
            "\n"
          ]
        }
      ]
    },
    {
      "cell_type": "code",
      "source": [
        "# Verificando se existem linhas repetidas\n",
        "df1=dfSpecialOfferProduct.groupBy('SpecialOfferID','ProductID','rowguid','ModifiedDate').count().filter(\"count > 1\")\n",
        "df1.drop('count').show()"
      ],
      "metadata": {
        "colab": {
          "base_uri": "https://localhost:8080/"
        },
        "id": "9zDhEy0cB1HT",
        "outputId": "2ce1019d-4c2e-4766-d171-30bdfa67679e"
      },
      "execution_count": null,
      "outputs": [
        {
          "output_type": "stream",
          "name": "stdout",
          "text": [
            "+--------------+---------+-------+------------+\n",
            "|SpecialOfferID|ProductID|rowguid|ModifiedDate|\n",
            "+--------------+---------+-------+------------+\n",
            "+--------------+---------+-------+------------+\n",
            "\n"
          ]
        }
      ]
    },
    {
      "cell_type": "code",
      "source": [
        "dfSpecialOfferProduct.write.options(header=True, delimiter=',').csv('gs://bucket-rox/Dados_Tratados/SpecialOfferProduct')"
      ],
      "metadata": {
        "id": "px-voTk62pDZ"
      },
      "execution_count": null,
      "outputs": []
    },
    {
      "cell_type": "markdown",
      "source": [
        "# Tabela Sales.Customer: CustomerID (Primary Key)"
      ],
      "metadata": {
        "id": "BwbnYg1tG8gm"
      }
    },
    {
      "cell_type": "code",
      "source": [
        "# Escolher o arquivo dentro da bucket\n",
        "bucket.blob('Sales.Customer.csv')\n",
        "\n",
        "# Escolher uma variável que vai receber o caminho do arquivo que quero ler\n",
        "path='gs://bucket-rox/Dados_Originais/Sales.Customer.csv'"
      ],
      "metadata": {
        "id": "UMOszHnC21Zz"
      },
      "execution_count": null,
      "outputs": []
    },
    {
      "cell_type": "code",
      "source": [
        "dfSalesCustomer = (spark\n",
        "        .read\n",
        "        .format ('csv')\n",
        "        .option ('header','true') # para incluir o cabeçalho\n",
        "        .option('inferschema','true') #para ele dizer o esquema\n",
        "        .option('delimiter',';')\n",
        "        .load(path)\n",
        "         )"
      ],
      "metadata": {
        "id": "RuZvQJLzHHW0"
      },
      "execution_count": null,
      "outputs": []
    },
    {
      "cell_type": "code",
      "source": [
        "dfSalesCustomer.printSchema()"
      ],
      "metadata": {
        "colab": {
          "base_uri": "https://localhost:8080/"
        },
        "id": "Ransj2faHLFZ",
        "outputId": "c2818cc3-4211-4859-d6fe-24a14af16eab"
      },
      "execution_count": null,
      "outputs": [
        {
          "output_type": "stream",
          "name": "stdout",
          "text": [
            "root\n",
            " |-- CustomerID: integer (nullable = true)\n",
            " |-- PersonID: string (nullable = true)\n",
            " |-- StoreID: string (nullable = true)\n",
            " |-- TerritoryID: integer (nullable = true)\n",
            " |-- AccountNumber: string (nullable = true)\n",
            " |-- rowguid: string (nullable = true)\n",
            " |-- ModifiedDate: timestamp (nullable = true)\n",
            "\n"
          ]
        }
      ]
    },
    {
      "cell_type": "code",
      "source": [
        "# verificando as primeiras linhas\n",
        "dfSalesCustomer.orderBy(col('CustomerID').asc(),col('PersonID').asc()).show(20)"
      ],
      "metadata": {
        "colab": {
          "base_uri": "https://localhost:8080/"
        },
        "id": "OYLvbW9DHOxR",
        "outputId": "78dfc7c5-52b8-4df1-cc6b-b077a4886c8a"
      },
      "execution_count": null,
      "outputs": [
        {
          "output_type": "stream",
          "name": "stdout",
          "text": [
            "+----------+--------+-------+-----------+-------------+--------------------+--------------------+\n",
            "|CustomerID|PersonID|StoreID|TerritoryID|AccountNumber|             rowguid|        ModifiedDate|\n",
            "+----------+--------+-------+-----------+-------------+--------------------+--------------------+\n",
            "|         1|    NULL|    934|          1|   AW00000001|3F5AE95E-B87D-4AE...|2014-09-12 11:15:...|\n",
            "|         2|    NULL|   1028|          1|   AW00000002|E552F657-A9AF-4A7...|2014-09-12 11:15:...|\n",
            "|         3|    NULL|    642|          4|   AW00000003|130774B1-DB21-4EF...|2014-09-12 11:15:...|\n",
            "|         4|    NULL|    932|          4|   AW00000004|FF862851-1DAA-404...|2014-09-12 11:15:...|\n",
            "|         5|    NULL|   1026|          4|   AW00000005|83905BDC-6F5E-4F7...|2014-09-12 11:15:...|\n",
            "|         6|    NULL|    644|          4|   AW00000006|1A92DF88-BFA2-467...|2014-09-12 11:15:...|\n",
            "|         7|    NULL|    930|          1|   AW00000007|03E9273E-B193-448...|2014-09-12 11:15:...|\n",
            "|         8|    NULL|   1024|          5|   AW00000008|801368B1-4323-4BF...|2014-09-12 11:15:...|\n",
            "|         9|    NULL|    620|          5|   AW00000009|B900BB7F-23C3-481...|2014-09-12 11:15:...|\n",
            "|        10|    NULL|    928|          6|   AW00000010|CDB6698D-2FF1-4FB...|2014-09-12 11:15:...|\n",
            "|        11|    NULL|   1022|          6|   AW00000011|750F3495-59C4-48A...|2014-09-12 11:15:...|\n",
            "|        12|    NULL|    622|          6|   AW00000012|947BCAF1-1F32-44F...|2014-09-12 11:15:...|\n",
            "|        13|    NULL|    434|          7|   AW00000013|B0FA5854-2511-439...|2014-09-12 11:15:...|\n",
            "|        14|    NULL|   1020|          8|   AW00000014|2F96BEDC-723D-468...|2014-09-12 11:15:...|\n",
            "|        15|    NULL|    624|          9|   AW00000015|0340737B-D4FA-479...|2014-09-12 11:15:...|\n",
            "|        16|    NULL|    432|         10|   AW00000016|C9381589-D31C-4EF...|2014-09-12 11:15:...|\n",
            "|        17|    NULL|   1018|          5|   AW00000017|34DB417F-1E0B-440...|2014-09-12 11:15:...|\n",
            "|        18|    NULL|   1332|          3|   AW00000018|C04D6B4D-94C6-4C5...|2014-09-12 11:15:...|\n",
            "|        19|    NULL|    430|          1|   AW00000019|69AE5D43-31BE-4B7...|2014-09-12 11:15:...|\n",
            "|        20|    NULL|   1016|          1|   AW00000020|E010C10A-F1C3-4BB...|2014-09-12 11:15:...|\n",
            "+----------+--------+-------+-----------+-------------+--------------------+--------------------+\n",
            "only showing top 20 rows\n",
            "\n"
          ]
        }
      ]
    },
    {
      "cell_type": "code",
      "source": [
        "dfSalesCustomer = dfSalesCustomer.withColumn('PersonID',dfSalesCustomer['PersonID'].cast(IntegerType()))"
      ],
      "metadata": {
        "id": "9SirCKGX4AwB"
      },
      "execution_count": null,
      "outputs": []
    },
    {
      "cell_type": "code",
      "source": [
        "dfSalesCustomer.printSchema()"
      ],
      "metadata": {
        "colab": {
          "base_uri": "https://localhost:8080/"
        },
        "id": "UofOuxcj4y-a",
        "outputId": "ff6bf5cc-c2da-43f6-da7c-90752f03d645"
      },
      "execution_count": null,
      "outputs": [
        {
          "output_type": "stream",
          "name": "stdout",
          "text": [
            "root\n",
            " |-- CustomerID: integer (nullable = true)\n",
            " |-- PersonID: integer (nullable = true)\n",
            " |-- StoreID: string (nullable = true)\n",
            " |-- TerritoryID: integer (nullable = true)\n",
            " |-- AccountNumber: string (nullable = true)\n",
            " |-- rowguid: string (nullable = true)\n",
            " |-- ModifiedDate: timestamp (nullable = true)\n",
            "\n"
          ]
        }
      ]
    },
    {
      "cell_type": "code",
      "source": [
        "dfSalesCustomer.show()"
      ],
      "metadata": {
        "colab": {
          "base_uri": "https://localhost:8080/"
        },
        "id": "3AN6YWke43OK",
        "outputId": "8a183e27-db20-4e20-a1af-78d9212b43a9"
      },
      "execution_count": null,
      "outputs": [
        {
          "output_type": "stream",
          "name": "stdout",
          "text": [
            "+----------+--------+-------+-----------+-------------+--------------------+--------------------+\n",
            "|CustomerID|PersonID|StoreID|TerritoryID|AccountNumber|             rowguid|        ModifiedDate|\n",
            "+----------+--------+-------+-----------+-------------+--------------------+--------------------+\n",
            "|         1|    null|    934|          1|   AW00000001|3F5AE95E-B87D-4AE...|2014-09-12 11:15:...|\n",
            "|         2|    null|   1028|          1|   AW00000002|E552F657-A9AF-4A7...|2014-09-12 11:15:...|\n",
            "|         3|    null|    642|          4|   AW00000003|130774B1-DB21-4EF...|2014-09-12 11:15:...|\n",
            "|         4|    null|    932|          4|   AW00000004|FF862851-1DAA-404...|2014-09-12 11:15:...|\n",
            "|         5|    null|   1026|          4|   AW00000005|83905BDC-6F5E-4F7...|2014-09-12 11:15:...|\n",
            "|         6|    null|    644|          4|   AW00000006|1A92DF88-BFA2-467...|2014-09-12 11:15:...|\n",
            "|         7|    null|    930|          1|   AW00000007|03E9273E-B193-448...|2014-09-12 11:15:...|\n",
            "|         8|    null|   1024|          5|   AW00000008|801368B1-4323-4BF...|2014-09-12 11:15:...|\n",
            "|         9|    null|    620|          5|   AW00000009|B900BB7F-23C3-481...|2014-09-12 11:15:...|\n",
            "|        10|    null|    928|          6|   AW00000010|CDB6698D-2FF1-4FB...|2014-09-12 11:15:...|\n",
            "|        11|    null|   1022|          6|   AW00000011|750F3495-59C4-48A...|2014-09-12 11:15:...|\n",
            "|        12|    null|    622|          6|   AW00000012|947BCAF1-1F32-44F...|2014-09-12 11:15:...|\n",
            "|        13|    null|    434|          7|   AW00000013|B0FA5854-2511-439...|2014-09-12 11:15:...|\n",
            "|        14|    null|   1020|          8|   AW00000014|2F96BEDC-723D-468...|2014-09-12 11:15:...|\n",
            "|        15|    null|    624|          9|   AW00000015|0340737B-D4FA-479...|2014-09-12 11:15:...|\n",
            "|        16|    null|    432|         10|   AW00000016|C9381589-D31C-4EF...|2014-09-12 11:15:...|\n",
            "|        17|    null|   1018|          5|   AW00000017|34DB417F-1E0B-440...|2014-09-12 11:15:...|\n",
            "|        18|    null|   1332|          3|   AW00000018|C04D6B4D-94C6-4C5...|2014-09-12 11:15:...|\n",
            "|        19|    null|    430|          1|   AW00000019|69AE5D43-31BE-4B7...|2014-09-12 11:15:...|\n",
            "|        20|    null|   1016|          1|   AW00000020|E010C10A-F1C3-4BB...|2014-09-12 11:15:...|\n",
            "+----------+--------+-------+-----------+-------------+--------------------+--------------------+\n",
            "only showing top 20 rows\n",
            "\n"
          ]
        }
      ]
    },
    {
      "cell_type": "code",
      "source": [
        "# verificando as últimas linhas\n",
        "dfSalesCustomer.orderBy(col('CustomerID').asc(),col('PersonID').asc()).tail(1)"
      ],
      "metadata": {
        "colab": {
          "base_uri": "https://localhost:8080/"
        },
        "id": "Q-_Sg2VBHyHR",
        "outputId": "d815753f-e67e-4897-9c07-25dba1103248"
      },
      "execution_count": null,
      "outputs": [
        {
          "output_type": "execute_result",
          "data": {
            "text/plain": [
              "[Row(CustomerID=30118, PersonID=1993, StoreID='1994', TerritoryID=3, AccountNumber='AW00030118', rowguid='2495B4EB-FE8B-459E-A1B6-DBA25C04E626', ModifiedDate=datetime.datetime(2014, 9, 12, 11, 15, 7, 263000))]"
            ]
          },
          "metadata": {},
          "execution_count": 103
        }
      ]
    },
    {
      "cell_type": "code",
      "source": [
        "# verificando se há registro null na coluna ID\n",
        "dfSalesCustomer.createOrReplaceTempView(\"TAB\")\n",
        "spark.sql(\"SELECT CustomerID FROM TAB WHERE CustomerID is null \").show(truncate=False)"
      ],
      "metadata": {
        "colab": {
          "base_uri": "https://localhost:8080/"
        },
        "id": "p5gVDQjeH3mM",
        "outputId": "6e04df4f-56ac-4728-f3fe-23c58edafb9a"
      },
      "execution_count": null,
      "outputs": [
        {
          "output_type": "stream",
          "name": "stdout",
          "text": [
            "+----------+\n",
            "|CustomerID|\n",
            "+----------+\n",
            "+----------+\n",
            "\n"
          ]
        }
      ]
    },
    {
      "cell_type": "code",
      "source": [
        "# Verificando se existe ID Cliente repetido\n",
        "df1=dfSalesCustomer.groupBy(\"CustomerID\").count().filter(\"count > 1\")\n",
        "df1.drop('count').show()"
      ],
      "metadata": {
        "colab": {
          "base_uri": "https://localhost:8080/"
        },
        "id": "WqFlAcOrH6Nl",
        "outputId": "133502e6-13c5-4706-f453-427f49a6ae73"
      },
      "execution_count": null,
      "outputs": [
        {
          "output_type": "stream",
          "name": "stdout",
          "text": [
            "+----------+\n",
            "|CustomerID|\n",
            "+----------+\n",
            "+----------+\n",
            "\n"
          ]
        }
      ]
    },
    {
      "cell_type": "code",
      "source": [
        "# Verificando se existe ID repetido\n",
        "df1=dfSalesCustomer.groupBy(\"PersonID\").count().filter(\"count > 1\")\n",
        "df1.drop('count').show()"
      ],
      "metadata": {
        "colab": {
          "base_uri": "https://localhost:8080/"
        },
        "id": "2WQM0SznbhGl",
        "outputId": "c1de205e-0143-47f9-aedc-1d0f6bb3c913"
      },
      "execution_count": null,
      "outputs": [
        {
          "output_type": "stream",
          "name": "stdout",
          "text": [
            "+--------+\n",
            "|PersonID|\n",
            "+--------+\n",
            "|    null|\n",
            "+--------+\n",
            "\n"
          ]
        }
      ]
    },
    {
      "cell_type": "code",
      "source": [
        "# Verificando se existe ID repetido\n",
        "df1=dfSalesCustomer.groupBy(\"StoreID\").count().filter(\"count > 1\")\n",
        "df1.drop('count').show()"
      ],
      "metadata": {
        "colab": {
          "base_uri": "https://localhost:8080/"
        },
        "id": "66u8XlGlc4nU",
        "outputId": "862cd2f2-1b71-477d-ffbe-40a89424ef09"
      },
      "execution_count": null,
      "outputs": [
        {
          "output_type": "stream",
          "name": "stdout",
          "text": [
            "+-------+\n",
            "|StoreID|\n",
            "+-------+\n",
            "|   1436|\n",
            "|    296|\n",
            "|   1090|\n",
            "|    800|\n",
            "|    944|\n",
            "|   1372|\n",
            "|   1394|\n",
            "|   1280|\n",
            "|   1870|\n",
            "|    926|\n",
            "|    870|\n",
            "|    666|\n",
            "|   1808|\n",
            "|    718|\n",
            "|    574|\n",
            "|   1880|\n",
            "|    544|\n",
            "|    740|\n",
            "|    334|\n",
            "|    442|\n",
            "+-------+\n",
            "only showing top 20 rows\n",
            "\n"
          ]
        }
      ]
    },
    {
      "cell_type": "code",
      "source": [
        "# Verificando se existe linha repetida\n",
        "df1=dfSalesCustomer.groupBy('CustomerID','PersonID','StoreID','TerritoryID','AccountNumber','rowguid','ModifiedDate').count().filter(\"count > 1\")\n",
        "df1.drop('count').show()"
      ],
      "metadata": {
        "colab": {
          "base_uri": "https://localhost:8080/"
        },
        "id": "Y4KLuWEqH-se",
        "outputId": "c4631d12-0c65-40dc-db95-d2fcbc579d38"
      },
      "execution_count": null,
      "outputs": [
        {
          "output_type": "stream",
          "name": "stdout",
          "text": [
            "+----------+--------+-------+-----------+-------------+-------+------------+\n",
            "|CustomerID|PersonID|StoreID|TerritoryID|AccountNumber|rowguid|ModifiedDate|\n",
            "+----------+--------+-------+-----------+-------------+-------+------------+\n",
            "+----------+--------+-------+-----------+-------------+-------+------------+\n",
            "\n"
          ]
        }
      ]
    },
    {
      "cell_type": "code",
      "source": [
        "dfSalesCustomer.write.options(header=True, delimiter=',').csv('gs://bucket-rox/Dados_Tratados/SalesCustomer')"
      ],
      "metadata": {
        "id": "nGBP4dwh28KL"
      },
      "execution_count": null,
      "outputs": []
    },
    {
      "cell_type": "markdown",
      "source": [
        "# Tabela Sales.SalesOrderDetail: SalesOrderDetailID (Primary Key), ProductID e SalesOrderID (Foreing Key)"
      ],
      "metadata": {
        "id": "JFWUT7rzJv4G"
      }
    },
    {
      "cell_type": "code",
      "source": [
        "# Escolher o arquivo dentro da bucket\n",
        "bucket.blob('Sales.SalesOrderDetail.csv')\n",
        "\n",
        "# Escolher uma variável que vai receber o caminho do arquivo que quero ler\n",
        "path='gs://bucket-rox/Dados_Originais/Sales.SalesOrderDetail.csv'"
      ],
      "metadata": {
        "id": "fdTB48cj5lox"
      },
      "execution_count": null,
      "outputs": []
    },
    {
      "cell_type": "code",
      "source": [
        "dfSalesOrderDetail = (spark\n",
        "        .read\n",
        "        .format ('csv')\n",
        "        .option ('header','true') # para incluir o cabeçalho\n",
        "        .option('inferschema','true') #para ele dizer o esquema\n",
        "        .option('delimiter',';')\n",
        "        .load(path)\n",
        "         )"
      ],
      "metadata": {
        "id": "77eituVnKiub"
      },
      "execution_count": null,
      "outputs": []
    },
    {
      "cell_type": "code",
      "source": [
        "dfSalesOrderDetail.printSchema()"
      ],
      "metadata": {
        "colab": {
          "base_uri": "https://localhost:8080/"
        },
        "id": "WI_tF4gOK095",
        "outputId": "0db8aeef-6fa6-459c-fd30-001eddf96c97"
      },
      "execution_count": null,
      "outputs": [
        {
          "output_type": "stream",
          "name": "stdout",
          "text": [
            "root\n",
            " |-- SalesOrderID: integer (nullable = true)\n",
            " |-- SalesOrderDetailID: integer (nullable = true)\n",
            " |-- CarrierTrackingNumber: string (nullable = true)\n",
            " |-- OrderQty: integer (nullable = true)\n",
            " |-- ProductID: integer (nullable = true)\n",
            " |-- SpecialOfferID: integer (nullable = true)\n",
            " |-- UnitPrice: string (nullable = true)\n",
            " |-- UnitPriceDiscount: string (nullable = true)\n",
            " |-- LineTotal: double (nullable = true)\n",
            " |-- rowguid: string (nullable = true)\n",
            " |-- ModifiedDate: timestamp (nullable = true)\n",
            "\n"
          ]
        }
      ]
    },
    {
      "cell_type": "code",
      "source": [
        "# verificando as primeiras linhas\n",
        "dfSalesOrderDetail.orderBy(col('SalesOrderDetailID').asc()).show(20)"
      ],
      "metadata": {
        "colab": {
          "base_uri": "https://localhost:8080/"
        },
        "id": "lcUlf9PkK1uj",
        "outputId": "8223e8cb-48d2-4872-ce69-c90362b1bb0a"
      },
      "execution_count": null,
      "outputs": [
        {
          "output_type": "stream",
          "name": "stdout",
          "text": [
            "+------------+------------------+---------------------+--------+---------+--------------+---------+-----------------+---------+--------------------+-------------------+\n",
            "|SalesOrderID|SalesOrderDetailID|CarrierTrackingNumber|OrderQty|ProductID|SpecialOfferID|UnitPrice|UnitPriceDiscount|LineTotal|             rowguid|       ModifiedDate|\n",
            "+------------+------------------+---------------------+--------+---------+--------------+---------+-----------------+---------+--------------------+-------------------+\n",
            "|       43659|                 1|         4911-403C-98|       1|      776|             1| 2024,994|             0,00| 2024.994|B207C96D-D9E6-402...|2011-05-31 00:00:00|\n",
            "|       43659|                 2|         4911-403C-98|       3|      777|             1| 2024,994|             0,00| 6074.982|7ABB600D-1E77-41B...|2011-05-31 00:00:00|\n",
            "|       43659|                 3|         4911-403C-98|       1|      778|             1| 2024,994|             0,00| 2024.994|475CF8C6-49F6-486...|2011-05-31 00:00:00|\n",
            "|       43659|                 4|         4911-403C-98|       1|      771|             1| 2039,994|             0,00| 2039.994|04C4DE91-5815-45D...|2011-05-31 00:00:00|\n",
            "|       43659|                 5|         4911-403C-98|       1|      772|             1| 2039,994|             0,00| 2039.994|5A74C7D2-E641-438...|2011-05-31 00:00:00|\n",
            "|       43659|                 6|         4911-403C-98|       2|      773|             1| 2039,994|             0,00| 4079.988|CE472532-A4C0-45B...|2011-05-31 00:00:00|\n",
            "|       43659|                 7|         4911-403C-98|       1|      774|             1| 2039,994|             0,00| 2039.994|80667840-F962-4EE...|2011-05-31 00:00:00|\n",
            "|       43659|                 8|         4911-403C-98|       3|      714|             1|  28,8404|             0,00|  86.5212|E9D54907-E7B7-496...|2011-05-31 00:00:00|\n",
            "|       43659|                 9|         4911-403C-98|       1|      716|             1|  28,8404|             0,00|  28.8404|AA542630-BDCD-4CE...|2011-05-31 00:00:00|\n",
            "|       43659|                10|         4911-403C-98|       6|      709|             1|     5,70|             0,00|     34.2|AC769034-3C2F-495...|2011-05-31 00:00:00|\n",
            "|       43659|                11|         4911-403C-98|       2|      712|             1|   5,1865|             0,00|   10.373|06A66921-6B9F-419...|2011-05-31 00:00:00|\n",
            "|       43659|                12|         4911-403C-98|       4|      711|             1|  20,1865|             0,00|   80.746|0E371EE3-253E-4BB...|2011-05-31 00:00:00|\n",
            "|       43660|                13|         6431-4D57-83|       1|      762|             1| 419,4589|             0,00| 419.4589|419A1302-AC7A-404...|2011-05-31 00:00:00|\n",
            "|       43660|                14|         6431-4D57-83|       1|      758|             1|  874,794|             0,00|  874.794|5D0B2B03-1D4C-4C3...|2011-05-31 00:00:00|\n",
            "|       43661|                15|         4E0A-4F89-AE|       1|      745|             1|   809,76|             0,00|   809.76|EDE1759E-6733-4C7...|2011-05-31 00:00:00|\n",
            "|       43661|                16|         4E0A-4F89-AE|       1|      743|             1| 714,7043|             0,00| 714.7043|FE10BF09-D477-485...|2011-05-31 00:00:00|\n",
            "|       43661|                17|         4E0A-4F89-AE|       2|      747|             1| 714,7043|             0,00|1429.4086|B136852E-24C9-400...|2011-05-31 00:00:00|\n",
            "|       43661|                18|         4E0A-4F89-AE|       4|      712|             1|   5,1865|             0,00|   20.746|F0F410B6-BC93-4D7...|2011-05-31 00:00:00|\n",
            "|       43661|                19|         4E0A-4F89-AE|       4|      715|             1|  28,8404|             0,00| 115.3616|AE4CDA7D-9B6E-4AB...|2011-05-31 00:00:00|\n",
            "|       43661|                20|         4E0A-4F89-AE|       2|      742|             1| 722,5949|             0,00|1445.1898|054A9D3B-A178-465...|2011-05-31 00:00:00|\n",
            "+------------+------------------+---------------------+--------+---------+--------------+---------+-----------------+---------+--------------------+-------------------+\n",
            "only showing top 20 rows\n",
            "\n"
          ]
        }
      ]
    },
    {
      "cell_type": "code",
      "source": [
        "# verificando as últimas linhas\n",
        "dfSalesOrderDetail.orderBy(col('SalesOrderDetailID').asc()).tail(1)"
      ],
      "metadata": {
        "colab": {
          "base_uri": "https://localhost:8080/"
        },
        "id": "VMsfYa6LK4gQ",
        "outputId": "940a1740-0333-4358-a4f0-83a8eead4b8a"
      },
      "execution_count": null,
      "outputs": [
        {
          "output_type": "execute_result",
          "data": {
            "text/plain": [
              "[Row(SalesOrderID=75123, SalesOrderDetailID=121317, CarrierTrackingNumber='NULL', OrderQty=1, ProductID=712, SpecialOfferID=1, UnitPrice='8,99', UnitPriceDiscount='0,00', LineTotal=8.99, rowguid='73646D26-0461-450D-8019-2C6C858619CA', ModifiedDate=datetime.datetime(2014, 6, 30, 0, 0))]"
            ]
          },
          "metadata": {},
          "execution_count": 114
        }
      ]
    },
    {
      "cell_type": "code",
      "source": [
        "# verificando se há registro null na coluna ID\n",
        "dfSalesOrderDetail.createOrReplaceTempView(\"TAB\")\n",
        "spark.sql(\"SELECT SalesOrderDetailID FROM TAB WHERE SalesOrderDetailID is null \").show(truncate=False)"
      ],
      "metadata": {
        "colab": {
          "base_uri": "https://localhost:8080/"
        },
        "id": "htjiUB-jK7Qw",
        "outputId": "4ef4cc10-f2e9-437e-a027-649a6414a99b"
      },
      "execution_count": null,
      "outputs": [
        {
          "output_type": "stream",
          "name": "stdout",
          "text": [
            "+------------------+\n",
            "|SalesOrderDetailID|\n",
            "+------------------+\n",
            "+------------------+\n",
            "\n"
          ]
        }
      ]
    },
    {
      "cell_type": "code",
      "source": [
        "# Verificando se existe ID repetido\n",
        "df1=dfSalesOrderDetail.groupBy(\"SalesOrderDetailID\").count().filter(\"count > 1\")\n",
        "df1.drop('count').show()"
      ],
      "metadata": {
        "colab": {
          "base_uri": "https://localhost:8080/"
        },
        "id": "HcxTvmJBK_E_",
        "outputId": "ef1aada9-0c7c-4699-eaa0-822c52eeb538"
      },
      "execution_count": null,
      "outputs": [
        {
          "output_type": "stream",
          "name": "stdout",
          "text": [
            "+------------------+\n",
            "|SalesOrderDetailID|\n",
            "+------------------+\n",
            "+------------------+\n",
            "\n"
          ]
        }
      ]
    },
    {
      "cell_type": "code",
      "source": [
        "# Verificando se existe linha repetida\n",
        "df1=dfSalesOrderDetail.groupBy('SalesOrderID','SalesOrderDetailID','CarrierTrackingNumber','OrderQty','ProductID','SpecialOfferID','UnitPrice','UnitPriceDiscount','LineTotal','rowguid','ModifiedDate').count().filter(\"count > 1\")\n",
        "df1.drop('count').show()"
      ],
      "metadata": {
        "colab": {
          "base_uri": "https://localhost:8080/"
        },
        "id": "nw5NI4HILA1_",
        "outputId": "1f31e0ad-d658-4390-b4e4-50e4f2292aa4"
      },
      "execution_count": null,
      "outputs": [
        {
          "output_type": "stream",
          "name": "stdout",
          "text": [
            "+------------+------------------+---------------------+--------+---------+--------------+---------+-----------------+---------+-------+------------+\n",
            "|SalesOrderID|SalesOrderDetailID|CarrierTrackingNumber|OrderQty|ProductID|SpecialOfferID|UnitPrice|UnitPriceDiscount|LineTotal|rowguid|ModifiedDate|\n",
            "+------------+------------------+---------------------+--------+---------+--------------+---------+-----------------+---------+-------+------------+\n",
            "+------------+------------------+---------------------+--------+---------+--------------+---------+-----------------+---------+-------+------------+\n",
            "\n"
          ]
        }
      ]
    },
    {
      "cell_type": "code",
      "source": [
        "dfSalesOrderDetail.write.options(header=True, delimiter=',').csv('gs://bucket-rox/Dados_Tratados/SalesOrderDetail')"
      ],
      "metadata": {
        "id": "unCx3GpC5qKp"
      },
      "execution_count": null,
      "outputs": []
    },
    {
      "cell_type": "markdown",
      "source": [
        "# Tabela Sales.SalesOrderHeader: SalesOrderID (Primary Key), CustomerID (Foreing Key)"
      ],
      "metadata": {
        "id": "ZQzrZtkGMczP"
      }
    },
    {
      "cell_type": "code",
      "source": [
        "# Escolher o arquivo dentro da bucket\n",
        "bucket.blob('Sales.SalesOrderHeader.csv')\n",
        "\n",
        "# Escolher uma variável que vai receber o caminho do arquivo que quero ler\n",
        "path='gs://bucket-rox/Dados_Originais/Sales.SalesOrderHeader.csv'"
      ],
      "metadata": {
        "id": "xUEBywM57YOb"
      },
      "execution_count": null,
      "outputs": []
    },
    {
      "cell_type": "code",
      "source": [
        "dfSalesOrderHeader = (spark\n",
        "        .read\n",
        "        .format ('csv')\n",
        "        .option ('header','true') # para incluir o cabeçalho\n",
        "        .option('inferschema','true') #para ele dizer o esquema\n",
        "        .option('delimiter',';')\n",
        "        .load(path)\n",
        "         )"
      ],
      "metadata": {
        "id": "i5voKb9jMlrf"
      },
      "execution_count": null,
      "outputs": []
    },
    {
      "cell_type": "code",
      "source": [
        "dfSalesOrderHeader.printSchema()"
      ],
      "metadata": {
        "colab": {
          "base_uri": "https://localhost:8080/"
        },
        "id": "6qset4oXMmcJ",
        "outputId": "1c1b3d08-20e2-4fda-ed75-2d4e955929f7"
      },
      "execution_count": null,
      "outputs": [
        {
          "output_type": "stream",
          "name": "stdout",
          "text": [
            "root\n",
            " |-- SalesOrderID: integer (nullable = true)\n",
            " |-- RevisionNumber: integer (nullable = true)\n",
            " |-- OrderDate: timestamp (nullable = true)\n",
            " |-- DueDate: timestamp (nullable = true)\n",
            " |-- ShipDate: timestamp (nullable = true)\n",
            " |-- Status: integer (nullable = true)\n",
            " |-- OnlineOrderFlag: integer (nullable = true)\n",
            " |-- SalesOrderNumber: string (nullable = true)\n",
            " |-- PurchaseOrderNumber: string (nullable = true)\n",
            " |-- AccountNumber: string (nullable = true)\n",
            " |-- CustomerID: integer (nullable = true)\n",
            " |-- SalesPersonID: string (nullable = true)\n",
            " |-- TerritoryID: integer (nullable = true)\n",
            " |-- BillToAddressID: integer (nullable = true)\n",
            " |-- ShipToAddressID: integer (nullable = true)\n",
            " |-- ShipMethodID: integer (nullable = true)\n",
            " |-- CreditCardID: string (nullable = true)\n",
            " |-- CreditCardApprovalCode: string (nullable = true)\n",
            " |-- CurrencyRateID: string (nullable = true)\n",
            " |-- SubTotal: string (nullable = true)\n",
            " |-- TaxAmt: string (nullable = true)\n",
            " |-- Freight: string (nullable = true)\n",
            " |-- TotalDue: string (nullable = true)\n",
            " |-- Comment: string (nullable = true)\n",
            " |-- rowguid: string (nullable = true)\n",
            " |-- ModifiedDate: timestamp (nullable = true)\n",
            "\n"
          ]
        }
      ]
    },
    {
      "cell_type": "code",
      "source": [
        "# verificando a coluna DateOrder identifiquei que o time não tem valores\n",
        "df2=dfSalesOrderHeader.withColumn('Date',F.substring(F.col('OrderDate'),1,10)).withColumn('Time',F.substring(F.col('OrderDate'),12,19))"
      ],
      "metadata": {
        "id": "Cqcg1lqBywgW"
      },
      "execution_count": null,
      "outputs": []
    },
    {
      "cell_type": "code",
      "source": [
        "df2.orderBy(col('Time').desc()).show(20)"
      ],
      "metadata": {
        "colab": {
          "base_uri": "https://localhost:8080/"
        },
        "id": "5FJQp9cixf8O",
        "outputId": "0e389c81-f468-4f27-af6f-36f2a3156c7a"
      },
      "execution_count": null,
      "outputs": [
        {
          "output_type": "stream",
          "name": "stdout",
          "text": [
            "+------------+--------------+-------------------+-------------------+-------------------+------+---------------+----------------+-------------------+--------------+----------+-------------+-----------+---------------+---------------+------------+------------+----------------------+--------------+----------+---------+---------+----------+-------+--------------------+-------------------+----------+--------+\n",
            "|SalesOrderID|RevisionNumber|          OrderDate|            DueDate|           ShipDate|Status|OnlineOrderFlag|SalesOrderNumber|PurchaseOrderNumber| AccountNumber|CustomerID|SalesPersonID|TerritoryID|BillToAddressID|ShipToAddressID|ShipMethodID|CreditCardID|CreditCardApprovalCode|CurrencyRateID|  SubTotal|   TaxAmt|  Freight|  TotalDue|Comment|             rowguid|       ModifiedDate|      Date|    Time|\n",
            "+------------+--------------+-------------------+-------------------+-------------------+------+---------------+----------------+-------------------+--------------+----------+-------------+-----------+---------------+---------------+------------+------------+----------------------+--------------+----------+---------+---------+----------+-------+--------------------+-------------------+----------+--------+\n",
            "|       43659|             8|2011-05-31 00:00:00|2011-06-12 00:00:00|2011-06-07 00:00:00|     5|              0|         SO43659|        PO522145787|10-4020-000676|     29825|          279|          5|            985|            985|           5|       16281|         105041Vi84182|          NULL|20565,6206|1971,5149| 616,0984|23153,2339|   NULL|79B65321-39CA-411...|2011-06-07 00:00:00|2011-05-31|00:00:00|\n",
            "|       43660|             8|2011-05-31 00:00:00|2011-06-12 00:00:00|2011-06-07 00:00:00|     5|              0|         SO43660|      PO18850127500|10-4020-000117|     29672|          279|          5|            921|            921|           5|        5618|         115213Vi29411|          NULL| 1294,2529| 124,2483|  38,8276| 1457,3288|   NULL|738DC42D-D03B-48A...|2011-06-07 00:00:00|2011-05-31|00:00:00|\n",
            "|       43661|             8|2011-05-31 00:00:00|2011-06-12 00:00:00|2011-06-07 00:00:00|     5|              0|         SO43661|      PO18473189620|10-4020-000442|     29734|          282|          6|            517|            517|           5|        1346|           85274Vi6854|             4|32726,4786|3153,7696|  985,553|36865,8012|   NULL|D91B9131-18A4-4A1...|2011-06-07 00:00:00|2011-05-31|00:00:00|\n",
            "|       43662|             8|2011-05-31 00:00:00|2011-06-12 00:00:00|2011-06-07 00:00:00|     5|              0|         SO43662|      PO18444174044|10-4020-000227|     29994|          282|          6|            482|            482|           5|       10456|         125295Vi53935|             4|28832,5289|2775,1646| 867,2389|32474,9324|   NULL|4A1ECFC0-CC3A-474...|2011-06-07 00:00:00|2011-05-31|00:00:00|\n",
            "|       43663|             8|2011-05-31 00:00:00|2011-06-12 00:00:00|2011-06-07 00:00:00|     5|              0|         SO43663|      PO18009186470|10-4020-000510|     29565|          276|          4|           1073|           1073|           5|        4322|          45303Vi22691|          NULL|  419,4589|  40,2681|  12,5838|  472,3108|   NULL|9B1E7A40-6AE0-4AD...|2011-06-07 00:00:00|2011-05-31|00:00:00|\n",
            "|       43664|             8|2011-05-31 00:00:00|2011-06-12 00:00:00|2011-06-07 00:00:00|     5|              0|         SO43664|      PO16617121983|10-4020-000397|     29898|          280|          1|            876|            876|           5|         806|           95555Vi4081|          NULL|24432,6088|2344,9921|   732,81|27510,4109|   NULL|22A8A5DA-8C22-42A...|2011-06-07 00:00:00|2011-05-31|00:00:00|\n",
            "|       43665|             8|2011-05-31 00:00:00|2011-06-12 00:00:00|2011-06-07 00:00:00|     5|              0|         SO43665|      PO16588191572|10-4020-000146|     29580|          283|          1|            849|            849|           5|       15232|          35568Vi78804|          NULL|14352,7713|1375,9427| 429,9821|16158,6961|   NULL|5602C304-853C-43D...|2011-06-07 00:00:00|2011-05-31|00:00:00|\n",
            "|       43666|             8|2011-05-31 00:00:00|2011-06-12 00:00:00|2011-06-07 00:00:00|     5|              0|         SO43666|      PO16008173883|10-4020-000511|     30052|          276|          4|           1074|           1074|           5|       13349|         105623Vi69217|          NULL| 5056,4896| 486,3747| 151,9921| 5694,8564|   NULL|E2A90057-1366-448...|2011-06-07 00:00:00|2011-05-31|00:00:00|\n",
            "|       43667|             8|2011-05-31 00:00:00|2011-06-12 00:00:00|2011-06-07 00:00:00|     5|              0|         SO43667|      PO15428132599|10-4020-000646|     29974|          277|          3|            629|            629|           5|       10370|          55680Vi53503|          NULL|  6107,082| 586,1203| 183,1626| 6876,3649|   NULL|86D5237D-432D-4B2...|2011-06-07 00:00:00|2011-05-31|00:00:00|\n",
            "|       43668|             8|2011-05-31 00:00:00|2011-06-12 00:00:00|2011-06-07 00:00:00|     5|              0|         SO43668|      PO14732180295|10-4020-000514|     29614|          282|          6|            529|            529|           5|        1566|           85817Vi8045|             4|35944,1562|3461,7654|1081,8017|40487,7233|   NULL|281CC355-D538-494...|2011-06-07 00:00:00|2011-05-31|00:00:00|\n",
            "|       43669|             8|2011-05-31 00:00:00|2011-06-12 00:00:00|2011-06-07 00:00:00|     5|              0|         SO43669|      PO14123169936|10-4020-000578|     29747|          283|          1|            895|            895|           5|       15538|          25877Vi80261|          NULL|  714,7043|  70,5175|  22,0367|  807,2585|   NULL|FABFC5C2-E034-4E0...|2011-06-07 00:00:00|2011-05-31|00:00:00|\n",
            "|       43670|             8|2011-05-31 00:00:00|2011-06-12 00:00:00|2011-06-07 00:00:00|     5|              0|         SO43670|      PO14384116310|10-4020-000504|     29566|          275|          3|            810|            810|           5|       18017|         105888Vi93490|          NULL|  6122,082| 587,5603| 183,6126| 6893,2549|   NULL|573E52A7-573F-40B...|2011-06-07 00:00:00|2011-05-31|00:00:00|\n",
            "|       43671|             8|2011-05-31 00:00:00|2011-06-12 00:00:00|2011-06-07 00:00:00|     5|              0|         SO43671|      PO13978119376|10-4020-000200|     29890|          283|          1|            855|            855|           5|       13693|          25904Vi70960|          NULL| 8128,7876| 780,8136| 244,0042| 9153,6054|   NULL|005FDA9D-62E1-400...|2011-06-07 00:00:00|2011-05-31|00:00:00|\n",
            "|       43672|             8|2011-05-31 00:00:00|2011-06-12 00:00:00|2011-06-07 00:00:00|     5|              0|         SO43672|      PO13862153537|10-4020-000119|     30067|          282|          6|            464|            464|           5|        3980|          95915Vi20982|             4|  6124,182| 587,6023| 183,6257|   6895,41|   NULL|194202AA-8E15-493...|2011-06-07 00:00:00|2011-05-31|00:00:00|\n",
            "|       43673|             8|2011-05-31 00:00:00|2011-06-12 00:00:00|2011-06-07 00:00:00|     5|              0|         SO43673|      PO13775141242|10-4020-000618|     29844|          275|          2|            821|            821|           5|        1417|           35931Vi7271|          NULL| 3746,2015| 357,9614| 111,8629| 4216,0258|   NULL|C5CD3AE9-41F5-4B7...|2011-06-07 00:00:00|2011-05-31|00:00:00|\n",
            "|       43674|             8|2011-05-31 00:00:00|2011-06-12 00:00:00|2011-06-07 00:00:00|     5|              0|         SO43674|      PO12760141756|10-4020-000083|     29596|          282|          6|            458|            458|           5|       19204|          26081Vi99806|             4|  2624,382| 251,9407|  78,7315| 2955,0542|   NULL|CE8BCA02-F705-4AA...|2011-06-07 00:00:00|2011-05-31|00:00:00|\n",
            "|       43675|             8|2011-05-31 00:00:00|2011-06-12 00:00:00|2011-06-07 00:00:00|     5|              0|         SO43675|      PO12412186464|10-4020-000670|     29827|          277|          3|            631|            631|           5|       11886|         126121Vi61402|          NULL| 5716,3102| 546,8759| 170,8987| 6434,0848|   NULL|9F2CF0EE-F2B8-44D...|2011-06-07 00:00:00|2011-05-31|00:00:00|\n",
            "|       43676|             8|2011-05-31 00:00:00|2011-06-12 00:00:00|2011-06-07 00:00:00|     5|              0|         SO43676|      PO11861165059|10-4020-000017|     29811|          275|          5|            755|            755|           5|       18153|          36168Vi94127|          NULL| 14203,458| 1363,266| 426,0206|15992,7446|   NULL|28C73732-D2FD-4F0...|2011-06-07 00:00:00|2011-05-31|00:00:00|\n",
            "|       43677|             8|2011-05-31 00:00:00|2011-06-12 00:00:00|2011-06-07 00:00:00|     5|              0|         SO43677|      PO11049174786|10-4020-000679|     29824|          278|          6|            556|            556|           5|       14030|          16302Vi72763|             4| 7793,1108| 747,1011| 233,4691|  8773,681|   NULL|95FAAF28-6495-40B...|2011-06-07 00:00:00|2011-05-31|00:00:00|\n",
            "|       43678|             8|2011-05-31 00:00:00|2011-06-12 00:00:00|2011-06-07 00:00:00|     5|              0|         SO43678|      PO10817150168|10-4020-000203|     29889|          281|          4|           1021|           1021|           5|        5093|          66363Vi26658|          NULL| 9799,9243|  942,074| 294,3981|11036,3964|   NULL|7F4B7542-638E-41C...|2011-06-07 00:00:00|2011-05-31|00:00:00|\n",
            "+------------+--------------+-------------------+-------------------+-------------------+------+---------------+----------------+-------------------+--------------+----------+-------------+-----------+---------------+---------------+------------+------------+----------------------+--------------+----------+---------+---------+----------+-------+--------------------+-------------------+----------+--------+\n",
            "only showing top 20 rows\n",
            "\n"
          ]
        }
      ]
    },
    {
      "cell_type": "code",
      "source": [
        "dfSalesOrderHeader=dfSalesOrderHeader.withColumn('OrderDate',F.substring(F.col('OrderDate'),1,10))"
      ],
      "metadata": {
        "id": "_0iEq053tS6O"
      },
      "execution_count": null,
      "outputs": []
    },
    {
      "cell_type": "code",
      "source": [
        "dfSalesOrderHeader.show()"
      ],
      "metadata": {
        "colab": {
          "base_uri": "https://localhost:8080/"
        },
        "id": "j2Wwd5eBz0Xq",
        "outputId": "b0d5011d-f91f-4a7e-a83b-280635e45856"
      },
      "execution_count": null,
      "outputs": [
        {
          "output_type": "stream",
          "name": "stdout",
          "text": [
            "+------------+--------------+----------+-------------------+-------------------+------+---------------+----------------+-------------------+--------------+----------+-------------+-----------+---------------+---------------+------------+------------+----------------------+--------------+----------+---------+---------+----------+-------+--------------------+-------------------+\n",
            "|SalesOrderID|RevisionNumber| OrderDate|            DueDate|           ShipDate|Status|OnlineOrderFlag|SalesOrderNumber|PurchaseOrderNumber| AccountNumber|CustomerID|SalesPersonID|TerritoryID|BillToAddressID|ShipToAddressID|ShipMethodID|CreditCardID|CreditCardApprovalCode|CurrencyRateID|  SubTotal|   TaxAmt|  Freight|  TotalDue|Comment|             rowguid|       ModifiedDate|\n",
            "+------------+--------------+----------+-------------------+-------------------+------+---------------+----------------+-------------------+--------------+----------+-------------+-----------+---------------+---------------+------------+------------+----------------------+--------------+----------+---------+---------+----------+-------+--------------------+-------------------+\n",
            "|       43659|             8|2011-05-31|2011-06-12 00:00:00|2011-06-07 00:00:00|     5|              0|         SO43659|        PO522145787|10-4020-000676|     29825|          279|          5|            985|            985|           5|       16281|         105041Vi84182|          NULL|20565,6206|1971,5149| 616,0984|23153,2339|   NULL|79B65321-39CA-411...|2011-06-07 00:00:00|\n",
            "|       43660|             8|2011-05-31|2011-06-12 00:00:00|2011-06-07 00:00:00|     5|              0|         SO43660|      PO18850127500|10-4020-000117|     29672|          279|          5|            921|            921|           5|        5618|         115213Vi29411|          NULL| 1294,2529| 124,2483|  38,8276| 1457,3288|   NULL|738DC42D-D03B-48A...|2011-06-07 00:00:00|\n",
            "|       43661|             8|2011-05-31|2011-06-12 00:00:00|2011-06-07 00:00:00|     5|              0|         SO43661|      PO18473189620|10-4020-000442|     29734|          282|          6|            517|            517|           5|        1346|           85274Vi6854|             4|32726,4786|3153,7696|  985,553|36865,8012|   NULL|D91B9131-18A4-4A1...|2011-06-07 00:00:00|\n",
            "|       43662|             8|2011-05-31|2011-06-12 00:00:00|2011-06-07 00:00:00|     5|              0|         SO43662|      PO18444174044|10-4020-000227|     29994|          282|          6|            482|            482|           5|       10456|         125295Vi53935|             4|28832,5289|2775,1646| 867,2389|32474,9324|   NULL|4A1ECFC0-CC3A-474...|2011-06-07 00:00:00|\n",
            "|       43663|             8|2011-05-31|2011-06-12 00:00:00|2011-06-07 00:00:00|     5|              0|         SO43663|      PO18009186470|10-4020-000510|     29565|          276|          4|           1073|           1073|           5|        4322|          45303Vi22691|          NULL|  419,4589|  40,2681|  12,5838|  472,3108|   NULL|9B1E7A40-6AE0-4AD...|2011-06-07 00:00:00|\n",
            "|       43664|             8|2011-05-31|2011-06-12 00:00:00|2011-06-07 00:00:00|     5|              0|         SO43664|      PO16617121983|10-4020-000397|     29898|          280|          1|            876|            876|           5|         806|           95555Vi4081|          NULL|24432,6088|2344,9921|   732,81|27510,4109|   NULL|22A8A5DA-8C22-42A...|2011-06-07 00:00:00|\n",
            "|       43665|             8|2011-05-31|2011-06-12 00:00:00|2011-06-07 00:00:00|     5|              0|         SO43665|      PO16588191572|10-4020-000146|     29580|          283|          1|            849|            849|           5|       15232|          35568Vi78804|          NULL|14352,7713|1375,9427| 429,9821|16158,6961|   NULL|5602C304-853C-43D...|2011-06-07 00:00:00|\n",
            "|       43666|             8|2011-05-31|2011-06-12 00:00:00|2011-06-07 00:00:00|     5|              0|         SO43666|      PO16008173883|10-4020-000511|     30052|          276|          4|           1074|           1074|           5|       13349|         105623Vi69217|          NULL| 5056,4896| 486,3747| 151,9921| 5694,8564|   NULL|E2A90057-1366-448...|2011-06-07 00:00:00|\n",
            "|       43667|             8|2011-05-31|2011-06-12 00:00:00|2011-06-07 00:00:00|     5|              0|         SO43667|      PO15428132599|10-4020-000646|     29974|          277|          3|            629|            629|           5|       10370|          55680Vi53503|          NULL|  6107,082| 586,1203| 183,1626| 6876,3649|   NULL|86D5237D-432D-4B2...|2011-06-07 00:00:00|\n",
            "|       43668|             8|2011-05-31|2011-06-12 00:00:00|2011-06-07 00:00:00|     5|              0|         SO43668|      PO14732180295|10-4020-000514|     29614|          282|          6|            529|            529|           5|        1566|           85817Vi8045|             4|35944,1562|3461,7654|1081,8017|40487,7233|   NULL|281CC355-D538-494...|2011-06-07 00:00:00|\n",
            "|       43669|             8|2011-05-31|2011-06-12 00:00:00|2011-06-07 00:00:00|     5|              0|         SO43669|      PO14123169936|10-4020-000578|     29747|          283|          1|            895|            895|           5|       15538|          25877Vi80261|          NULL|  714,7043|  70,5175|  22,0367|  807,2585|   NULL|FABFC5C2-E034-4E0...|2011-06-07 00:00:00|\n",
            "|       43670|             8|2011-05-31|2011-06-12 00:00:00|2011-06-07 00:00:00|     5|              0|         SO43670|      PO14384116310|10-4020-000504|     29566|          275|          3|            810|            810|           5|       18017|         105888Vi93490|          NULL|  6122,082| 587,5603| 183,6126| 6893,2549|   NULL|573E52A7-573F-40B...|2011-06-07 00:00:00|\n",
            "|       43671|             8|2011-05-31|2011-06-12 00:00:00|2011-06-07 00:00:00|     5|              0|         SO43671|      PO13978119376|10-4020-000200|     29890|          283|          1|            855|            855|           5|       13693|          25904Vi70960|          NULL| 8128,7876| 780,8136| 244,0042| 9153,6054|   NULL|005FDA9D-62E1-400...|2011-06-07 00:00:00|\n",
            "|       43672|             8|2011-05-31|2011-06-12 00:00:00|2011-06-07 00:00:00|     5|              0|         SO43672|      PO13862153537|10-4020-000119|     30067|          282|          6|            464|            464|           5|        3980|          95915Vi20982|             4|  6124,182| 587,6023| 183,6257|   6895,41|   NULL|194202AA-8E15-493...|2011-06-07 00:00:00|\n",
            "|       43673|             8|2011-05-31|2011-06-12 00:00:00|2011-06-07 00:00:00|     5|              0|         SO43673|      PO13775141242|10-4020-000618|     29844|          275|          2|            821|            821|           5|        1417|           35931Vi7271|          NULL| 3746,2015| 357,9614| 111,8629| 4216,0258|   NULL|C5CD3AE9-41F5-4B7...|2011-06-07 00:00:00|\n",
            "|       43674|             8|2011-05-31|2011-06-12 00:00:00|2011-06-07 00:00:00|     5|              0|         SO43674|      PO12760141756|10-4020-000083|     29596|          282|          6|            458|            458|           5|       19204|          26081Vi99806|             4|  2624,382| 251,9407|  78,7315| 2955,0542|   NULL|CE8BCA02-F705-4AA...|2011-06-07 00:00:00|\n",
            "|       43675|             8|2011-05-31|2011-06-12 00:00:00|2011-06-07 00:00:00|     5|              0|         SO43675|      PO12412186464|10-4020-000670|     29827|          277|          3|            631|            631|           5|       11886|         126121Vi61402|          NULL| 5716,3102| 546,8759| 170,8987| 6434,0848|   NULL|9F2CF0EE-F2B8-44D...|2011-06-07 00:00:00|\n",
            "|       43676|             8|2011-05-31|2011-06-12 00:00:00|2011-06-07 00:00:00|     5|              0|         SO43676|      PO11861165059|10-4020-000017|     29811|          275|          5|            755|            755|           5|       18153|          36168Vi94127|          NULL| 14203,458| 1363,266| 426,0206|15992,7446|   NULL|28C73732-D2FD-4F0...|2011-06-07 00:00:00|\n",
            "|       43677|             8|2011-05-31|2011-06-12 00:00:00|2011-06-07 00:00:00|     5|              0|         SO43677|      PO11049174786|10-4020-000679|     29824|          278|          6|            556|            556|           5|       14030|          16302Vi72763|             4| 7793,1108| 747,1011| 233,4691|  8773,681|   NULL|95FAAF28-6495-40B...|2011-06-07 00:00:00|\n",
            "|       43678|             8|2011-05-31|2011-06-12 00:00:00|2011-06-07 00:00:00|     5|              0|         SO43678|      PO10817150168|10-4020-000203|     29889|          281|          4|           1021|           1021|           5|        5093|          66363Vi26658|          NULL| 9799,9243|  942,074| 294,3981|11036,3964|   NULL|7F4B7542-638E-41C...|2011-06-07 00:00:00|\n",
            "+------------+--------------+----------+-------------------+-------------------+------+---------------+----------------+-------------------+--------------+----------+-------------+-----------+---------------+---------------+------------+------------+----------------------+--------------+----------+---------+---------+----------+-------+--------------------+-------------------+\n",
            "only showing top 20 rows\n",
            "\n"
          ]
        }
      ]
    },
    {
      "cell_type": "code",
      "source": [
        "# verificando as primeiras linhas\n",
        "dfSalesOrderHeader.orderBy(col('SalesOrderID').asc()).show(20)"
      ],
      "metadata": {
        "colab": {
          "base_uri": "https://localhost:8080/"
        },
        "id": "5R48r1F9Mo37",
        "outputId": "08a8edc9-52ed-4111-ff2d-aeea64d052c8"
      },
      "execution_count": null,
      "outputs": [
        {
          "output_type": "stream",
          "name": "stdout",
          "text": [
            "+------------+--------------+-------------------+-------------------+-------------------+------+---------------+----------------+-------------------+--------------+----------+-------------+-----------+---------------+---------------+------------+------------+----------------------+--------------+----------+---------+---------+----------+-------+--------------------+-------------------+\n",
            "|SalesOrderID|RevisionNumber|          OrderDate|            DueDate|           ShipDate|Status|OnlineOrderFlag|SalesOrderNumber|PurchaseOrderNumber| AccountNumber|CustomerID|SalesPersonID|TerritoryID|BillToAddressID|ShipToAddressID|ShipMethodID|CreditCardID|CreditCardApprovalCode|CurrencyRateID|  SubTotal|   TaxAmt|  Freight|  TotalDue|Comment|             rowguid|       ModifiedDate|\n",
            "+------------+--------------+-------------------+-------------------+-------------------+------+---------------+----------------+-------------------+--------------+----------+-------------+-----------+---------------+---------------+------------+------------+----------------------+--------------+----------+---------+---------+----------+-------+--------------------+-------------------+\n",
            "|       43659|             8|2011-05-31 00:00:00|2011-06-12 00:00:00|2011-06-07 00:00:00|     5|              0|         SO43659|        PO522145787|10-4020-000676|     29825|          279|          5|            985|            985|           5|       16281|         105041Vi84182|          NULL|20565,6206|1971,5149| 616,0984|23153,2339|   NULL|79B65321-39CA-411...|2011-06-07 00:00:00|\n",
            "|       43660|             8|2011-05-31 00:00:00|2011-06-12 00:00:00|2011-06-07 00:00:00|     5|              0|         SO43660|      PO18850127500|10-4020-000117|     29672|          279|          5|            921|            921|           5|        5618|         115213Vi29411|          NULL| 1294,2529| 124,2483|  38,8276| 1457,3288|   NULL|738DC42D-D03B-48A...|2011-06-07 00:00:00|\n",
            "|       43661|             8|2011-05-31 00:00:00|2011-06-12 00:00:00|2011-06-07 00:00:00|     5|              0|         SO43661|      PO18473189620|10-4020-000442|     29734|          282|          6|            517|            517|           5|        1346|           85274Vi6854|             4|32726,4786|3153,7696|  985,553|36865,8012|   NULL|D91B9131-18A4-4A1...|2011-06-07 00:00:00|\n",
            "|       43662|             8|2011-05-31 00:00:00|2011-06-12 00:00:00|2011-06-07 00:00:00|     5|              0|         SO43662|      PO18444174044|10-4020-000227|     29994|          282|          6|            482|            482|           5|       10456|         125295Vi53935|             4|28832,5289|2775,1646| 867,2389|32474,9324|   NULL|4A1ECFC0-CC3A-474...|2011-06-07 00:00:00|\n",
            "|       43663|             8|2011-05-31 00:00:00|2011-06-12 00:00:00|2011-06-07 00:00:00|     5|              0|         SO43663|      PO18009186470|10-4020-000510|     29565|          276|          4|           1073|           1073|           5|        4322|          45303Vi22691|          NULL|  419,4589|  40,2681|  12,5838|  472,3108|   NULL|9B1E7A40-6AE0-4AD...|2011-06-07 00:00:00|\n",
            "|       43664|             8|2011-05-31 00:00:00|2011-06-12 00:00:00|2011-06-07 00:00:00|     5|              0|         SO43664|      PO16617121983|10-4020-000397|     29898|          280|          1|            876|            876|           5|         806|           95555Vi4081|          NULL|24432,6088|2344,9921|   732,81|27510,4109|   NULL|22A8A5DA-8C22-42A...|2011-06-07 00:00:00|\n",
            "|       43665|             8|2011-05-31 00:00:00|2011-06-12 00:00:00|2011-06-07 00:00:00|     5|              0|         SO43665|      PO16588191572|10-4020-000146|     29580|          283|          1|            849|            849|           5|       15232|          35568Vi78804|          NULL|14352,7713|1375,9427| 429,9821|16158,6961|   NULL|5602C304-853C-43D...|2011-06-07 00:00:00|\n",
            "|       43666|             8|2011-05-31 00:00:00|2011-06-12 00:00:00|2011-06-07 00:00:00|     5|              0|         SO43666|      PO16008173883|10-4020-000511|     30052|          276|          4|           1074|           1074|           5|       13349|         105623Vi69217|          NULL| 5056,4896| 486,3747| 151,9921| 5694,8564|   NULL|E2A90057-1366-448...|2011-06-07 00:00:00|\n",
            "|       43667|             8|2011-05-31 00:00:00|2011-06-12 00:00:00|2011-06-07 00:00:00|     5|              0|         SO43667|      PO15428132599|10-4020-000646|     29974|          277|          3|            629|            629|           5|       10370|          55680Vi53503|          NULL|  6107,082| 586,1203| 183,1626| 6876,3649|   NULL|86D5237D-432D-4B2...|2011-06-07 00:00:00|\n",
            "|       43668|             8|2011-05-31 00:00:00|2011-06-12 00:00:00|2011-06-07 00:00:00|     5|              0|         SO43668|      PO14732180295|10-4020-000514|     29614|          282|          6|            529|            529|           5|        1566|           85817Vi8045|             4|35944,1562|3461,7654|1081,8017|40487,7233|   NULL|281CC355-D538-494...|2011-06-07 00:00:00|\n",
            "|       43669|             8|2011-05-31 00:00:00|2011-06-12 00:00:00|2011-06-07 00:00:00|     5|              0|         SO43669|      PO14123169936|10-4020-000578|     29747|          283|          1|            895|            895|           5|       15538|          25877Vi80261|          NULL|  714,7043|  70,5175|  22,0367|  807,2585|   NULL|FABFC5C2-E034-4E0...|2011-06-07 00:00:00|\n",
            "|       43670|             8|2011-05-31 00:00:00|2011-06-12 00:00:00|2011-06-07 00:00:00|     5|              0|         SO43670|      PO14384116310|10-4020-000504|     29566|          275|          3|            810|            810|           5|       18017|         105888Vi93490|          NULL|  6122,082| 587,5603| 183,6126| 6893,2549|   NULL|573E52A7-573F-40B...|2011-06-07 00:00:00|\n",
            "|       43671|             8|2011-05-31 00:00:00|2011-06-12 00:00:00|2011-06-07 00:00:00|     5|              0|         SO43671|      PO13978119376|10-4020-000200|     29890|          283|          1|            855|            855|           5|       13693|          25904Vi70960|          NULL| 8128,7876| 780,8136| 244,0042| 9153,6054|   NULL|005FDA9D-62E1-400...|2011-06-07 00:00:00|\n",
            "|       43672|             8|2011-05-31 00:00:00|2011-06-12 00:00:00|2011-06-07 00:00:00|     5|              0|         SO43672|      PO13862153537|10-4020-000119|     30067|          282|          6|            464|            464|           5|        3980|          95915Vi20982|             4|  6124,182| 587,6023| 183,6257|   6895,41|   NULL|194202AA-8E15-493...|2011-06-07 00:00:00|\n",
            "|       43673|             8|2011-05-31 00:00:00|2011-06-12 00:00:00|2011-06-07 00:00:00|     5|              0|         SO43673|      PO13775141242|10-4020-000618|     29844|          275|          2|            821|            821|           5|        1417|           35931Vi7271|          NULL| 3746,2015| 357,9614| 111,8629| 4216,0258|   NULL|C5CD3AE9-41F5-4B7...|2011-06-07 00:00:00|\n",
            "|       43674|             8|2011-05-31 00:00:00|2011-06-12 00:00:00|2011-06-07 00:00:00|     5|              0|         SO43674|      PO12760141756|10-4020-000083|     29596|          282|          6|            458|            458|           5|       19204|          26081Vi99806|             4|  2624,382| 251,9407|  78,7315| 2955,0542|   NULL|CE8BCA02-F705-4AA...|2011-06-07 00:00:00|\n",
            "|       43675|             8|2011-05-31 00:00:00|2011-06-12 00:00:00|2011-06-07 00:00:00|     5|              0|         SO43675|      PO12412186464|10-4020-000670|     29827|          277|          3|            631|            631|           5|       11886|         126121Vi61402|          NULL| 5716,3102| 546,8759| 170,8987| 6434,0848|   NULL|9F2CF0EE-F2B8-44D...|2011-06-07 00:00:00|\n",
            "|       43676|             8|2011-05-31 00:00:00|2011-06-12 00:00:00|2011-06-07 00:00:00|     5|              0|         SO43676|      PO11861165059|10-4020-000017|     29811|          275|          5|            755|            755|           5|       18153|          36168Vi94127|          NULL| 14203,458| 1363,266| 426,0206|15992,7446|   NULL|28C73732-D2FD-4F0...|2011-06-07 00:00:00|\n",
            "|       43677|             8|2011-05-31 00:00:00|2011-06-12 00:00:00|2011-06-07 00:00:00|     5|              0|         SO43677|      PO11049174786|10-4020-000679|     29824|          278|          6|            556|            556|           5|       14030|          16302Vi72763|             4| 7793,1108| 747,1011| 233,4691|  8773,681|   NULL|95FAAF28-6495-40B...|2011-06-07 00:00:00|\n",
            "|       43678|             8|2011-05-31 00:00:00|2011-06-12 00:00:00|2011-06-07 00:00:00|     5|              0|         SO43678|      PO10817150168|10-4020-000203|     29889|          281|          4|           1021|           1021|           5|        5093|          66363Vi26658|          NULL| 9799,9243|  942,074| 294,3981|11036,3964|   NULL|7F4B7542-638E-41C...|2011-06-07 00:00:00|\n",
            "+------------+--------------+-------------------+-------------------+-------------------+------+---------------+----------------+-------------------+--------------+----------+-------------+-----------+---------------+---------------+------------+------------+----------------------+--------------+----------+---------+---------+----------+-------+--------------------+-------------------+\n",
            "only showing top 20 rows\n",
            "\n"
          ]
        }
      ]
    },
    {
      "cell_type": "code",
      "source": [
        "# verificando as últimas linhas\n",
        "dfSalesOrderHeader.orderBy(col('SalesOrderID').asc()).tail(1)"
      ],
      "metadata": {
        "colab": {
          "base_uri": "https://localhost:8080/"
        },
        "id": "r0FgOieLMrho",
        "outputId": "bfa8d590-1868-4f6a-e994-0d5f4cfae7a5"
      },
      "execution_count": null,
      "outputs": [
        {
          "output_type": "execute_result",
          "data": {
            "text/plain": [
              "[Row(SalesOrderID=75123, RevisionNumber=8, OrderDate=datetime.datetime(2014, 6, 30, 0, 0), DueDate=datetime.datetime(2014, 7, 12, 0, 0), ShipDate=datetime.datetime(2014, 7, 7, 0, 0), Status=5, OnlineOrderFlag=1, SalesOrderNumber='SO75123', PurchaseOrderNumber='NULL', AccountNumber='10-4030-018759', CustomerID=18759, SalesPersonID='NULL', TerritoryID=6, BillToAddressID=14024, ShipToAddressID=14024, ShipMethodID=1, CreditCardID='10084', CreditCardApprovalCode='230370Vi51970', CurrencyRateID='NULL', SubTotal='189,97', TaxAmt='15,1976', Freight='4,7493', TotalDue='209,9169', Comment='NULL', rowguid='D54752FF-2B54-4BE5-95EA-3B72289C059F', ModifiedDate=datetime.datetime(2014, 7, 7, 0, 0))]"
            ]
          },
          "metadata": {},
          "execution_count": 123
        }
      ]
    },
    {
      "cell_type": "code",
      "source": [
        "# verificando se há registro null na coluna ID\n",
        "dfSalesOrderHeader.createOrReplaceTempView(\"TAB\")\n",
        "spark.sql(\"SELECT SalesOrderID FROM TAB WHERE SalesOrderID is null \").show(truncate=False)"
      ],
      "metadata": {
        "colab": {
          "base_uri": "https://localhost:8080/"
        },
        "id": "sXoZczPsMuOg",
        "outputId": "75c1a2ef-9fcb-46c6-d9ff-1fa7fcbf5dd8"
      },
      "execution_count": null,
      "outputs": [
        {
          "output_type": "stream",
          "name": "stdout",
          "text": [
            "+------------+\n",
            "|SalesOrderID|\n",
            "+------------+\n",
            "+------------+\n",
            "\n"
          ]
        }
      ]
    },
    {
      "cell_type": "code",
      "source": [
        "# Verificando se existe ID repetido\n",
        "df1=dfSalesOrderHeader.groupBy(\"SalesOrderID\").count().filter(\"count > 1\")\n",
        "df1.drop('count').show()"
      ],
      "metadata": {
        "colab": {
          "base_uri": "https://localhost:8080/"
        },
        "id": "45uDqf3xMwsq",
        "outputId": "f9518643-3533-4354-865f-04ca4e5b7f97"
      },
      "execution_count": null,
      "outputs": [
        {
          "output_type": "stream",
          "name": "stdout",
          "text": [
            "+------------+\n",
            "|SalesOrderID|\n",
            "+------------+\n",
            "+------------+\n",
            "\n"
          ]
        }
      ]
    },
    {
      "cell_type": "code",
      "source": [
        "# Verificando se existe ID repetido\n",
        "df1=dfSalesOrderHeader.groupBy(\"CustomerID\").count().filter(\"count > 1\")\n",
        "df1.drop('count').show()"
      ],
      "metadata": {
        "colab": {
          "base_uri": "https://localhost:8080/"
        },
        "id": "Id_wnoLIdeja",
        "outputId": "5f4f0549-595a-4fad-c25c-ddc2d5e963b9"
      },
      "execution_count": null,
      "outputs": [
        {
          "output_type": "stream",
          "name": "stdout",
          "text": [
            "+----------+\n",
            "|CustomerID|\n",
            "+----------+\n",
            "|     11033|\n",
            "|     29834|\n",
            "|     28664|\n",
            "|     14832|\n",
            "|     22373|\n",
            "|     11317|\n",
            "|     15619|\n",
            "|     12027|\n",
            "|     29744|\n",
            "|     29601|\n",
            "|     29993|\n",
            "|     13840|\n",
            "|     29719|\n",
            "|     26623|\n",
            "|     26708|\n",
            "|     17753|\n",
            "|     23571|\n",
            "|     24171|\n",
            "|     27484|\n",
            "|     15790|\n",
            "+----------+\n",
            "only showing top 20 rows\n",
            "\n"
          ]
        }
      ]
    },
    {
      "cell_type": "code",
      "source": [
        "dfSalesOrderHeader.filter(col('CustomerID') == 11033).show()"
      ],
      "metadata": {
        "colab": {
          "base_uri": "https://localhost:8080/"
        },
        "id": "-Is4aNRbkGuC",
        "outputId": "2da3a243-0ad0-4a19-f04f-03688a7ee0d1"
      },
      "execution_count": null,
      "outputs": [
        {
          "output_type": "stream",
          "name": "stdout",
          "text": [
            "+------------+--------------+-------------------+-------------------+-------------------+------+---------------+----------------+-------------------+--------------+----------+-------------+-----------+---------------+---------------+------------+------------+----------------------+--------------+--------+--------+-------+---------+-------+--------------------+-------------------+\n",
            "|SalesOrderID|RevisionNumber|          OrderDate|            DueDate|           ShipDate|Status|OnlineOrderFlag|SalesOrderNumber|PurchaseOrderNumber| AccountNumber|CustomerID|SalesPersonID|TerritoryID|BillToAddressID|ShipToAddressID|ShipMethodID|CreditCardID|CreditCardApprovalCode|CurrencyRateID|SubTotal|  TaxAmt|Freight| TotalDue|Comment|             rowguid|       ModifiedDate|\n",
            "+------------+--------------+-------------------+-------------------+-------------------+------+---------------+----------------+-------------------+--------------+----------+-------------+-----------+---------------+---------------+------------+------------+----------------------+--------------+--------+--------+-------+---------+-------+--------------------+-------------------+\n",
            "|       43998|             8|2011-07-18 00:00:00|2011-07-30 00:00:00|2011-07-25 00:00:00|     5|              1|         SO43998|               NULL|10-4030-011033|     11033|         NULL|          9|          18528|          18528|           1|       16251|         335112Vi84042|           626| 3374,99|269,9992|84,3748| 3729,364|   NULL|AF5F6213-6853-424...|2011-07-25 00:00:00|\n",
            "|       63409|             8|2014-01-01 00:00:00|2014-01-13 00:00:00|2014-01-08 00:00:00|     5|              1|         SO63409|               NULL|10-4030-011033|     11033|         NULL|          9|          18528|          18528|           1|       16251|         339866Vi84042|         10776| 2354,98|188,3984|58,8745|2602,2529|   NULL|F1592CE7-E2D2-439...|2014-01-08 00:00:00|\n",
            "|       70163|             8|2014-04-07 00:00:00|2014-04-19 00:00:00|2014-04-14 00:00:00|     5|              1|         SO70163|               NULL|10-4030-011033|     11033|         NULL|          9|          18528|          18528|           1|       16251|         343180Vi84042|         11832|  765,32| 61,2256| 19,133| 845,6786|   NULL|C8A49C41-5032-4CA...|2014-04-14 00:00:00|\n",
            "+------------+--------------+-------------------+-------------------+-------------------+------+---------------+----------------+-------------------+--------------+----------+-------------+-----------+---------------+---------------+------------+------------+----------------------+--------------+--------+--------+-------+---------+-------+--------------------+-------------------+\n",
            "\n"
          ]
        }
      ]
    },
    {
      "cell_type": "code",
      "source": [
        "# Verificando se existe linha repetida\n",
        "df1=dfSalesOrderHeader.groupBy('SalesOrderID','RevisionNumber','OrderDate','DueDate','ShipDate','Status','OnlineOrderFlag','SalesOrderNumber','PurchaseOrderNumber','AccountNumber','CustomerID','SalesPersonID','TerritoryID','BillToAddressID','ShipToAddressID','ShipMethodID','CreditCardID','CreditCardApprovalCode','CurrencyRateID','SubTotal','TaxAmt','Freight','TotalDue','Comment','rowguid','ModifiedDate').count().filter(\"count > 1\")\n",
        "df1.drop('count').show()"
      ],
      "metadata": {
        "colab": {
          "base_uri": "https://localhost:8080/"
        },
        "id": "jHec5OKYMzMB",
        "outputId": "86f58f7f-3077-4c20-8ba8-f6a87122b5cb"
      },
      "execution_count": null,
      "outputs": [
        {
          "output_type": "stream",
          "name": "stdout",
          "text": [
            "+------------+--------------+---------+-------+--------+------+---------------+----------------+-------------------+-------------+----------+-------------+-----------+---------------+---------------+------------+------------+----------------------+--------------+--------+------+-------+--------+-------+-------+------------+\n",
            "|SalesOrderID|RevisionNumber|OrderDate|DueDate|ShipDate|Status|OnlineOrderFlag|SalesOrderNumber|PurchaseOrderNumber|AccountNumber|CustomerID|SalesPersonID|TerritoryID|BillToAddressID|ShipToAddressID|ShipMethodID|CreditCardID|CreditCardApprovalCode|CurrencyRateID|SubTotal|TaxAmt|Freight|TotalDue|Comment|rowguid|ModifiedDate|\n",
            "+------------+--------------+---------+-------+--------+------+---------------+----------------+-------------------+-------------+----------+-------------+-----------+---------------+---------------+------------+------------+----------------------+--------------+--------+------+-------+--------+-------+-------+------------+\n",
            "+------------+--------------+---------+-------+--------+------+---------------+----------------+-------------------+-------------+----------+-------------+-----------+---------------+---------------+------------+------------+----------------------+--------------+--------+------+-------+--------+-------+-------+------------+\n",
            "\n"
          ]
        }
      ]
    },
    {
      "cell_type": "code",
      "source": [
        "dfSalesOrderHeader.write.options(header=True, delimiter=',').csv('gs://bucket-rox/Dados_Tratados/SalesOrderHeader')"
      ],
      "metadata": {
        "id": "63M2xO1V8BwG"
      },
      "execution_count": null,
      "outputs": []
    }
  ]
}